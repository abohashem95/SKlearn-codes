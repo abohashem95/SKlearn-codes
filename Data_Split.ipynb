{
  "nbformat": 4,
  "nbformat_minor": 0,
  "metadata": {
    "colab": {
      "name": "Data Split.ipynb",
      "provenance": [],
      "collapsed_sections": [
        "YPYZf8QYmxmL",
        "HrefUG22mzTB",
        "Dw6K7SW-mzLH",
        "4a_2OcJNmzDo",
        "f4z91FGlmyOB",
        "O0aNIp9wnRYv"
      ],
      "toc_visible": true,
      "authorship_tag": "ABX9TyN76kiOtFWfsM/w4/9i6Ecl",
      "include_colab_link": true
    },
    "kernelspec": {
      "name": "python3",
      "display_name": "Python 3"
    }
  },
  "cells": [
    {
      "cell_type": "markdown",
      "metadata": {
        "id": "view-in-github",
        "colab_type": "text"
      },
      "source": [
        "<a href=\"https://colab.research.google.com/github/abohashem95/SKlearn-codes/blob/main/Data_Split.ipynb\" target=\"_parent\"><img src=\"https://colab.research.google.com/assets/colab-badge.svg\" alt=\"Open In Colab\"/></a>"
      ]
    },
    {
      "cell_type": "markdown",
      "metadata": {
        "id": "Rz1-JKbTmnvD"
      },
      "source": [
        "# Data Split"
      ]
    },
    {
      "cell_type": "markdown",
      "metadata": {
        "id": "YPYZf8QYmxmL"
      },
      "source": [
        "## train_test_split\n",
        "\n",
        "تقسيم البيانات لتدريب  و اختبار , يتم تحديد النسبة للاختبار , و عبر قيمة random_state   يتم تحديد نظام \n",
        "العشوائية\n",
        "\n",
        "X_train, X_test, y_train, y_test = train_test_split(X, y, test_size=0.33, random_state=44, shuffle =True)"
      ]
    },
    {
      "cell_type": "code",
      "metadata": {
        "id": "ZS8N4Fiqnn-q",
        "outputId": "5d5e5ec6-0ba2-49f5-d175-6e8700cd19d3",
        "colab": {
          "base_uri": "https://localhost:8080/",
          "height": 191
        }
      },
      "source": [
        "import numpy as np\n",
        "from sklearn.model_selection import train_test_split\n",
        "X, y = np.arange(10).reshape((5, 2)), range(5)\n",
        "\n",
        "X\n",
        "list(y)\n",
        "\n",
        "X_train, X_test, y_train, y_test = train_test_split(X, y, test_size=0.33, random_state=42)\n",
        "\n",
        "print(X_train)\n",
        "print(\"---------------\")\n",
        "print(y_train)\n",
        "print(\"---------------\")\n",
        "print(X_test)\n",
        "print(\"---------------\")\n",
        "print(y_test)"
      ],
      "execution_count": null,
      "outputs": [
        {
          "output_type": "stream",
          "text": [
            "[[4 5]\n",
            " [0 1]\n",
            " [6 7]]\n",
            "---------------\n",
            "[2, 0, 3]\n",
            "---------------\n",
            "[[2 3]\n",
            " [8 9]]\n",
            "---------------\n",
            "[1, 4]\n"
          ],
          "name": "stdout"
        }
      ]
    },
    {
      "cell_type": "code",
      "metadata": {
        "id": "muYz8rFznnld"
      },
      "source": [
        ""
      ],
      "execution_count": null,
      "outputs": []
    },
    {
      "cell_type": "markdown",
      "metadata": {
        "id": "HrefUG22mzTB"
      },
      "source": [
        "## KFold\n",
        "\n",
        "KFold(n_splits=4, random_state=44, shuffle =True)"
      ]
    },
    {
      "cell_type": "code",
      "metadata": {
        "id": "o3wMxQsEq9PL",
        "outputId": "c476811e-7cff-4673-848c-dbb1a0e05937",
        "colab": {
          "base_uri": "https://localhost:8080/",
          "height": 868
        }
      },
      "source": [
        "import numpy as np\n",
        "from sklearn.model_selection import KFold\n",
        "X = np.array([[1, 2], [3, 4], [5, 6], [7, 8]])\n",
        "y = np.array([11, 22, 33, 44])\n",
        "# يتم عمل اكثر من تجربة للتقسيم يساوي 2 او 3 او 4\n",
        "#nn = 2\n",
        "#nn=3\n",
        "nn=4\n",
        "\n",
        "kf = KFold(n_splits=nn)\n",
        "print(kf.get_n_splits(X))\n",
        "# KFold(n_splits=nn, random_state=None, shuffle=False)\n",
        "\n",
        "for train_index, test_index in kf.split(X):\n",
        "    print(\"TRAIN:\", train_index, \"TEST:\", test_index)\n",
        "    X_train, X_test = X[train_index], X[test_index]\n",
        "    y_train, y_test = y[train_index], y[test_index]\n",
        "    print('X_train \\n' , X_train)\n",
        "    print('X_test \\n' , X_test)\n",
        "    print('y_train \\n' ,y_train)\n",
        "    print('y_test \\n' , y_test)\n",
        "    print(\"---------------------\")"
      ],
      "execution_count": 2,
      "outputs": [
        {
          "output_type": "stream",
          "text": [
            "4\n",
            "TRAIN: [1 2 3] TEST: [0]\n",
            "X_train \n",
            " [[3 4]\n",
            " [5 6]\n",
            " [7 8]]\n",
            "X_test \n",
            " [[1 2]]\n",
            "y_train \n",
            " [22 33 44]\n",
            "y_test \n",
            " [11]\n",
            "---------------------\n",
            "TRAIN: [0 2 3] TEST: [1]\n",
            "X_train \n",
            " [[1 2]\n",
            " [5 6]\n",
            " [7 8]]\n",
            "X_test \n",
            " [[3 4]]\n",
            "y_train \n",
            " [11 33 44]\n",
            "y_test \n",
            " [22]\n",
            "---------------------\n",
            "TRAIN: [0 1 3] TEST: [2]\n",
            "X_train \n",
            " [[1 2]\n",
            " [3 4]\n",
            " [7 8]]\n",
            "X_test \n",
            " [[5 6]]\n",
            "y_train \n",
            " [11 22 44]\n",
            "y_test \n",
            " [33]\n",
            "---------------------\n",
            "TRAIN: [0 1 2] TEST: [3]\n",
            "X_train \n",
            " [[1 2]\n",
            " [3 4]\n",
            " [5 6]]\n",
            "X_test \n",
            " [[7 8]]\n",
            "y_train \n",
            " [11 22 33]\n",
            "y_test \n",
            " [44]\n",
            "---------------------\n"
          ],
          "name": "stdout"
        }
      ]
    },
    {
      "cell_type": "markdown",
      "metadata": {
        "id": "Dw6K7SW-mzLH"
      },
      "source": [
        "## Repeated KFold\n",
        "\n",
        "و هي تقوم بعمل kfold \n",
        "\n",
        "اكثر من مرة, بتنويعات مختلفة\n",
        "\n",
        "rkf = RepeatedKFold(n_splits=4, n_repeats=4, random_state=44)"
      ]
    },
    {
      "cell_type": "code",
      "metadata": {
        "id": "qDXzX0loJZnw",
        "outputId": "8463e7b1-e79e-4293-9b6d-102e60c5efec",
        "colab": {
          "base_uri": "https://localhost:8080/",
          "height": 1000
        }
      },
      "source": [
        "import numpy as np\n",
        "from sklearn.model_selection import RepeatedKFold\n",
        "X = np.array([[1, 2], [3, 4], [5, 6], [7, 8]])\n",
        "y = np.array([11, 22, 33, 44])\n",
        "# هنا يتم تحديد عدد الاقسام و عدد التكرارات\n",
        "rkf = RepeatedKFold(n_splits=4, n_repeats=4, random_state=44)\n",
        "for train_index, test_index in rkf.split(X):\n",
        "    print(\"TRAIN:\", train_index, \"TEST:\", test_index)\n",
        "    X_train, X_test = X[train_index], X[test_index]\n",
        "    y_train, y_test = y[train_index], y[test_index]\n",
        "    print('X_train \\n' , X_train)\n",
        "    print('X_test \\n' , X_test)\n",
        "    print('y_train \\n' ,y_train)\n",
        "    print('y_test \\n' , y_test)\n",
        "    print('*********************')"
      ],
      "execution_count": 3,
      "outputs": [
        {
          "output_type": "stream",
          "text": [
            "TRAIN: [0 1 2] TEST: [3]\n",
            "X_train \n",
            " [[1 2]\n",
            " [3 4]\n",
            " [5 6]]\n",
            "X_test \n",
            " [[7 8]]\n",
            "y_train \n",
            " [11 22 33]\n",
            "y_test \n",
            " [44]\n",
            "*********************\n",
            "TRAIN: [0 1 3] TEST: [2]\n",
            "X_train \n",
            " [[1 2]\n",
            " [3 4]\n",
            " [7 8]]\n",
            "X_test \n",
            " [[5 6]]\n",
            "y_train \n",
            " [11 22 44]\n",
            "y_test \n",
            " [33]\n",
            "*********************\n",
            "TRAIN: [0 2 3] TEST: [1]\n",
            "X_train \n",
            " [[1 2]\n",
            " [5 6]\n",
            " [7 8]]\n",
            "X_test \n",
            " [[3 4]]\n",
            "y_train \n",
            " [11 33 44]\n",
            "y_test \n",
            " [22]\n",
            "*********************\n",
            "TRAIN: [1 2 3] TEST: [0]\n",
            "X_train \n",
            " [[3 4]\n",
            " [5 6]\n",
            " [7 8]]\n",
            "X_test \n",
            " [[1 2]]\n",
            "y_train \n",
            " [22 33 44]\n",
            "y_test \n",
            " [11]\n",
            "*********************\n",
            "TRAIN: [0 2 3] TEST: [1]\n",
            "X_train \n",
            " [[1 2]\n",
            " [5 6]\n",
            " [7 8]]\n",
            "X_test \n",
            " [[3 4]]\n",
            "y_train \n",
            " [11 33 44]\n",
            "y_test \n",
            " [22]\n",
            "*********************\n",
            "TRAIN: [0 1 3] TEST: [2]\n",
            "X_train \n",
            " [[1 2]\n",
            " [3 4]\n",
            " [7 8]]\n",
            "X_test \n",
            " [[5 6]]\n",
            "y_train \n",
            " [11 22 44]\n",
            "y_test \n",
            " [33]\n",
            "*********************\n",
            "TRAIN: [1 2 3] TEST: [0]\n",
            "X_train \n",
            " [[3 4]\n",
            " [5 6]\n",
            " [7 8]]\n",
            "X_test \n",
            " [[1 2]]\n",
            "y_train \n",
            " [22 33 44]\n",
            "y_test \n",
            " [11]\n",
            "*********************\n",
            "TRAIN: [0 1 2] TEST: [3]\n",
            "X_train \n",
            " [[1 2]\n",
            " [3 4]\n",
            " [5 6]]\n",
            "X_test \n",
            " [[7 8]]\n",
            "y_train \n",
            " [11 22 33]\n",
            "y_test \n",
            " [44]\n",
            "*********************\n",
            "TRAIN: [0 2 3] TEST: [1]\n",
            "X_train \n",
            " [[1 2]\n",
            " [5 6]\n",
            " [7 8]]\n",
            "X_test \n",
            " [[3 4]]\n",
            "y_train \n",
            " [11 33 44]\n",
            "y_test \n",
            " [22]\n",
            "*********************\n",
            "TRAIN: [1 2 3] TEST: [0]\n",
            "X_train \n",
            " [[3 4]\n",
            " [5 6]\n",
            " [7 8]]\n",
            "X_test \n",
            " [[1 2]]\n",
            "y_train \n",
            " [22 33 44]\n",
            "y_test \n",
            " [11]\n",
            "*********************\n",
            "TRAIN: [0 1 3] TEST: [2]\n",
            "X_train \n",
            " [[1 2]\n",
            " [3 4]\n",
            " [7 8]]\n",
            "X_test \n",
            " [[5 6]]\n",
            "y_train \n",
            " [11 22 44]\n",
            "y_test \n",
            " [33]\n",
            "*********************\n",
            "TRAIN: [0 1 2] TEST: [3]\n",
            "X_train \n",
            " [[1 2]\n",
            " [3 4]\n",
            " [5 6]]\n",
            "X_test \n",
            " [[7 8]]\n",
            "y_train \n",
            " [11 22 33]\n",
            "y_test \n",
            " [44]\n",
            "*********************\n",
            "TRAIN: [1 2 3] TEST: [0]\n",
            "X_train \n",
            " [[3 4]\n",
            " [5 6]\n",
            " [7 8]]\n",
            "X_test \n",
            " [[1 2]]\n",
            "y_train \n",
            " [22 33 44]\n",
            "y_test \n",
            " [11]\n",
            "*********************\n",
            "TRAIN: [0 2 3] TEST: [1]\n",
            "X_train \n",
            " [[1 2]\n",
            " [5 6]\n",
            " [7 8]]\n",
            "X_test \n",
            " [[3 4]]\n",
            "y_train \n",
            " [11 33 44]\n",
            "y_test \n",
            " [22]\n",
            "*********************\n",
            "TRAIN: [0 1 3] TEST: [2]\n",
            "X_train \n",
            " [[1 2]\n",
            " [3 4]\n",
            " [7 8]]\n",
            "X_test \n",
            " [[5 6]]\n",
            "y_train \n",
            " [11 22 44]\n",
            "y_test \n",
            " [33]\n",
            "*********************\n",
            "TRAIN: [0 1 2] TEST: [3]\n",
            "X_train \n",
            " [[1 2]\n",
            " [3 4]\n",
            " [5 6]]\n",
            "X_test \n",
            " [[7 8]]\n",
            "y_train \n",
            " [11 22 33]\n",
            "y_test \n",
            " [44]\n",
            "*********************\n"
          ],
          "name": "stdout"
        }
      ]
    },
    {
      "cell_type": "markdown",
      "metadata": {
        "id": "4a_2OcJNmzDo"
      },
      "source": [
        "## Stratified KFold\n",
        "\n",
        "و هي لعمل تقسيم الطبقات بشكل متوازن مع انواع الاصناف"
      ]
    },
    {
      "cell_type": "code",
      "metadata": {
        "id": "wYGM3wCaKFDv",
        "outputId": "7b739a36-3f28-4c26-88d0-edafddd68515",
        "colab": {
          "base_uri": "https://localhost:8080/",
          "height": 506
        }
      },
      "source": [
        "import numpy as np\n",
        "from sklearn.model_selection import StratifiedKFold\n",
        "X = np.array([[1, 2], [3, 4], [5, 6], [7, 8]])\n",
        "y = np.array([0,0,0,1])\n",
        "skf = StratifiedKFold(n_splits=2)\n",
        "skf.get_n_splits(X, y)\n",
        "\n",
        "print(skf)\n",
        "\n",
        "for train_index, test_index in skf.split(X, y):\n",
        "    print(\"TRAIN:\", train_index, \"TEST:\", test_index)\n",
        "    X_train, X_test = X[train_index], X[test_index]\n",
        "    y_train, y_test = y[train_index], y[test_index]\n",
        "    print('X_train \\n' , X_train)\n",
        "    print('X_test \\n' , X_test)\n",
        "    print('y_train \\n' ,y_train)\n",
        "    print('y_test \\n' , y_test)\n",
        "    print('*********************')\n",
        " "
      ],
      "execution_count": 4,
      "outputs": [
        {
          "output_type": "stream",
          "text": [
            "StratifiedKFold(n_splits=2, random_state=None, shuffle=False)\n",
            "TRAIN: [2 3] TEST: [0 1]\n",
            "X_train \n",
            " [[5 6]\n",
            " [7 8]]\n",
            "X_test \n",
            " [[1 2]\n",
            " [3 4]]\n",
            "y_train \n",
            " [0 1]\n",
            "y_test \n",
            " [0 0]\n",
            "*********************\n",
            "TRAIN: [0 1] TEST: [2 3]\n",
            "X_train \n",
            " [[1 2]\n",
            " [3 4]]\n",
            "X_test \n",
            " [[5 6]\n",
            " [7 8]]\n",
            "y_train \n",
            " [0 0]\n",
            "y_test \n",
            " [0 1]\n",
            "*********************\n"
          ],
          "name": "stdout"
        },
        {
          "output_type": "stream",
          "text": [
            "/usr/local/lib/python3.6/dist-packages/sklearn/model_selection/_split.py:667: UserWarning: The least populated class in y has only 1 members, which is less than n_splits=2.\n",
            "  % (min_groups, self.n_splits)), UserWarning)\n"
          ],
          "name": "stderr"
        }
      ]
    },
    {
      "cell_type": "markdown",
      "metadata": {
        "id": "f4z91FGlmyOB"
      },
      "source": [
        "## Shuffle Split\n",
        "\n",
        "يقوم بعمل اختيار عشوائي للتدريب و الاختبار حسب النسبة المعطاة"
      ]
    },
    {
      "cell_type": "code",
      "metadata": {
        "id": "mxxUvSWLKgz9",
        "outputId": "5fdf1d1b-4069-427f-f56b-9ff9f4e285fb",
        "colab": {
          "base_uri": "https://localhost:8080/",
          "height": 208
        }
      },
      "source": [
        "import numpy as np\n",
        "from sklearn.model_selection import ShuffleSplit\n",
        "X = np.array([[1, 2], [3, 4], [5, 6], [7, 8], [3, 4], [5, 6]])\n",
        "y = np.array([1, 2, 1, 2, 1, 2])\n",
        "rs = ShuffleSplit(n_splits=5, test_size=.1, random_state=0)\n",
        "rs.get_n_splits(X)\n",
        "\n",
        "print(rs)\n",
        "\n",
        "for train_index, test_index in rs.split(X):\n",
        "    print(\"TRAIN:\", train_index, \"TEST:\", test_index)\n",
        "\n",
        "rs = ShuffleSplit(n_splits=5, train_size=0.5, test_size=.25,random_state=0)\n",
        "for train_index, test_index in rs.split(X):\n",
        "    print(\"TRAIN:\", train_index, \"TEST:\", test_index)"
      ],
      "execution_count": 5,
      "outputs": [
        {
          "output_type": "stream",
          "text": [
            "ShuffleSplit(n_splits=5, random_state=0, test_size=0.1, train_size=None)\n",
            "TRAIN: [2 1 3 0 4] TEST: [5]\n",
            "TRAIN: [3 4 0 2 5] TEST: [1]\n",
            "TRAIN: [5 1 2 4 0] TEST: [3]\n",
            "TRAIN: [2 3 4 1 0] TEST: [5]\n",
            "TRAIN: [4 3 5 1 0] TEST: [2]\n",
            "TRAIN: [1 3 0] TEST: [5 2]\n",
            "TRAIN: [4 0 2] TEST: [1 3]\n",
            "TRAIN: [1 2 4] TEST: [3 5]\n",
            "TRAIN: [3 4 1] TEST: [5 2]\n",
            "TRAIN: [3 5 1] TEST: [2 4]\n"
          ],
          "name": "stdout"
        }
      ]
    },
    {
      "cell_type": "markdown",
      "metadata": {
        "id": "O0aNIp9wnRYv"
      },
      "source": [
        "## Stratified Shuffle Split\n",
        "\n",
        "نفس الفكرة السابقة لكن مع مراعاة توزيع النسب"
      ]
    },
    {
      "cell_type": "code",
      "metadata": {
        "id": "OxZ6I4fiKxQB",
        "outputId": "24de723d-b486-4e08-c7b4-2e389e442c0f",
        "colab": {
          "base_uri": "https://localhost:8080/",
          "height": 1000
        }
      },
      "source": [
        " import numpy as np\n",
        "from sklearn.model_selection import StratifiedShuffleSplit\n",
        "X = np.array([[1, 2], [3, 4], [1, 2], [3, 4], [1, 2], [3, 4]])\n",
        "y = np.array([0, 0, 0, 1, 1, 1])\n",
        "sss = StratifiedShuffleSplit(n_splits=5, test_size=0.2, random_state=0)\n",
        "sss.get_n_splits(X, y)\n",
        "print(sss)\n",
        "for train_index, test_index in sss.split(X, y):\n",
        "    print(\"TRAIN:\", train_index, \"TEST:\", test_index)\n",
        "    X_train, X_test = X[train_index], X[test_index]\n",
        "    y_train, y_test = y[train_index], y[test_index]\n",
        "    print('X_train \\n' , X_train)\n",
        "    print('X_test \\n' , X_test)\n",
        "    print('y_train \\n' ,y_train)\n",
        "    print('y_test \\n' , y_test)\n",
        "    print('*********************')"
      ],
      "execution_count": 6,
      "outputs": [
        {
          "output_type": "stream",
          "text": [
            "StratifiedShuffleSplit(n_splits=5, random_state=0, test_size=0.2,\n",
            "            train_size=None)\n",
            "TRAIN: [2 5 1 3] TEST: [0 4]\n",
            "X_train \n",
            " [[1 2]\n",
            " [3 4]\n",
            " [3 4]\n",
            " [3 4]]\n",
            "X_test \n",
            " [[1 2]\n",
            " [1 2]]\n",
            "y_train \n",
            " [0 1 0 1]\n",
            "y_test \n",
            " [0 1]\n",
            "*********************\n",
            "TRAIN: [0 4 3 1] TEST: [2 5]\n",
            "X_train \n",
            " [[1 2]\n",
            " [1 2]\n",
            " [3 4]\n",
            " [3 4]]\n",
            "X_test \n",
            " [[1 2]\n",
            " [3 4]]\n",
            "y_train \n",
            " [0 1 1 0]\n",
            "y_test \n",
            " [0 1]\n",
            "*********************\n",
            "TRAIN: [0 4 3 1] TEST: [2 5]\n",
            "X_train \n",
            " [[1 2]\n",
            " [1 2]\n",
            " [3 4]\n",
            " [3 4]]\n",
            "X_test \n",
            " [[1 2]\n",
            " [3 4]]\n",
            "y_train \n",
            " [0 1 1 0]\n",
            "y_test \n",
            " [0 1]\n",
            "*********************\n",
            "TRAIN: [5 4 1 2] TEST: [0 3]\n",
            "X_train \n",
            " [[3 4]\n",
            " [1 2]\n",
            " [3 4]\n",
            " [1 2]]\n",
            "X_test \n",
            " [[1 2]\n",
            " [3 4]]\n",
            "y_train \n",
            " [1 1 0 0]\n",
            "y_test \n",
            " [0 1]\n",
            "*********************\n",
            "TRAIN: [1 5 2 4] TEST: [0 3]\n",
            "X_train \n",
            " [[3 4]\n",
            " [3 4]\n",
            " [1 2]\n",
            " [1 2]]\n",
            "X_test \n",
            " [[1 2]\n",
            " [3 4]]\n",
            "y_train \n",
            " [0 1 0 1]\n",
            "y_test \n",
            " [0 1]\n",
            "*********************\n"
          ],
          "name": "stdout"
        }
      ]
    }
  ]
}