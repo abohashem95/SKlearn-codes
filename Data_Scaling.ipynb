{
  "nbformat": 4,
  "nbformat_minor": 0,
  "metadata": {
    "colab": {
      "name": "Data Scaling.ipynb",
      "provenance": [],
      "collapsed_sections": [],
      "authorship_tag": "ABX9TyNWz0KTuzSWBzCG3pH9hnEA",
      "include_colab_link": true
    },
    "kernelspec": {
      "name": "python3",
      "display_name": "Python 3"
    }
  },
  "cells": [
    {
      "cell_type": "markdown",
      "metadata": {
        "id": "view-in-github",
        "colab_type": "text"
      },
      "source": [
        "<a href=\"https://colab.research.google.com/github/abohashem95/SKlearn-codes/blob/main/Data_Scaling.ipynb\" target=\"_parent\"><img src=\"https://colab.research.google.com/assets/colab-badge.svg\" alt=\"Open In Colab\"/></a>"
      ]
    },
    {
      "cell_type": "markdown",
      "metadata": {
        "id": "9xaO4-9qTFia"
      },
      "source": [
        "# Data Scaling "
      ]
    },
    {
      "cell_type": "markdown",
      "metadata": {
        "id": "8v_OS0a9TIwR"
      },
      "source": [
        "## StandardScaler  (Standardization)\n",
        "\n",
        "\n",
        "\n",
        "y = (x – mean) / standard_deviation\n",
        "\n",
        "Where the mean is calculated as:\n",
        "\n",
        "mean = sum(x) / count(x)\n",
        "\n",
        "And the standard_deviation is calculated as:\n",
        "\n",
        "standard_deviation = sqrt( sum( (x – mean)^2 ) / count(x))\n",
        "\n",
        "\n",
        "\n"
      ]
    },
    {
      "cell_type": "code",
      "metadata": {
        "id": "0XdqhDl_ULdL",
        "outputId": "4717f256-ad13-4bec-93a8-9dbc1b0d7ea9",
        "colab": {
          "base_uri": "https://localhost:8080/",
          "height": 104
        }
      },
      "source": [
        "from sklearn.preprocessing import StandardScaler\n",
        "data = [[0, 0], [0, 0], [1, 1], [1, 1]]\n",
        "scaler = StandardScaler()\n",
        "scaler.fit(data)\n",
        "print(scaler.mean_)\n",
        "newdata = scaler.transform(data)\n",
        "print(newdata)"
      ],
      "execution_count": null,
      "outputs": [
        {
          "output_type": "stream",
          "text": [
            "[0.5 0.5]\n",
            "[[-1. -1.]\n",
            " [-1. -1.]\n",
            " [ 1.  1.]\n",
            " [ 1.  1.]]\n"
          ],
          "name": "stdout"
        }
      ]
    },
    {
      "cell_type": "code",
      "metadata": {
        "id": "WooWQyrHZdNU",
        "outputId": "826438ec-c4b1-412b-d84f-17124e37c601",
        "colab": {
          "base_uri": "https://localhost:8080/",
          "height": 86
        }
      },
      "source": [
        "# or \n",
        "\n",
        "newdata = scaler.fit_transform(data) \n",
        "print(newdata)"
      ],
      "execution_count": null,
      "outputs": [
        {
          "output_type": "stream",
          "text": [
            "[[-1. -1.]\n",
            " [-1. -1.]\n",
            " [ 1.  1.]\n",
            " [ 1.  1.]]\n"
          ],
          "name": "stdout"
        }
      ]
    },
    {
      "cell_type": "markdown",
      "metadata": {
        "id": "ar9ZbxHEaE_D"
      },
      "source": [
        "using in train and test data\n",
        "\n",
        "just example without data\n",
        "\n",
        "sc_X = StandardScaler()\n",
        "\n",
        "X_train = sc_X.fit_transform(X_train)\n",
        "\n",
        "X_test = sc_X.transform(X_test)\n",
        "\n",
        "sc_y = StandardScaler()\n",
        "\n",
        "y_train = sc_y.fit_transform(y_train)\n",
        "\n",
        "y_test = sc_y.fit_transform(y_test)\n"
      ]
    },
    {
      "cell_type": "markdown",
      "metadata": {
        "id": "-b0WpVABTMj0"
      },
      "source": [
        "## MinMaxScaler (Normalization)\n",
        "\n",
        "\n",
        "y = (x – min) / (max – min)\n",
        "\n",
        "Where the minimum and maximum values pertain to the value x being normalized\n"
      ]
    },
    {
      "cell_type": "code",
      "metadata": {
        "id": "UPNOEd3faSG-",
        "outputId": "7bbb8bb9-a5a9-4369-e149-115b763e4947",
        "colab": {
          "base_uri": "https://localhost:8080/",
          "height": 139
        }
      },
      "source": [
        "from sklearn.preprocessing import MinMaxScaler\n",
        "data = [[-1, 2], [-0.5, 6], [0, 10], [1, 18]]\n",
        "scaler = MinMaxScaler()\n",
        "scaler.fit(data)\n",
        "print(scaler.data_range_)\n",
        "print(scaler.data_min_)\n",
        "print(scaler.data_max_)\n",
        "newdata = scaler.transform(data)\n",
        "print(newdata)"
      ],
      "execution_count": null,
      "outputs": [
        {
          "output_type": "stream",
          "text": [
            "[ 2. 16.]\n",
            "[-1.  2.]\n",
            "[ 1. 18.]\n",
            "[[0.   0.  ]\n",
            " [0.25 0.25]\n",
            " [0.5  0.5 ]\n",
            " [1.   1.  ]]\n"
          ],
          "name": "stdout"
        }
      ]
    },
    {
      "cell_type": "markdown",
      "metadata": {
        "id": "F3gDaY5_TRJe"
      },
      "source": [
        "## Normalizer\n",
        "\n",
        "و هي مخصصة لتناول كل صف علي حدة في المصفوفات ثنائية الأبعاد"
      ]
    },
    {
      "cell_type": "code",
      "metadata": {
        "id": "aQHEbFbyanct",
        "outputId": "b291013d-4804-4ba9-e5fa-fdbd3db5f6ba",
        "colab": {
          "base_uri": "https://localhost:8080/",
          "height": 69
        }
      },
      "source": [
        "from sklearn.preprocessing import Normalizer\n",
        "X = [[4, 1, 2, 2], [1, 3, 9, 3], [5, 7, 5, 1]]\n",
        "# تستخدم l1  لجعل مجموع كل صف هو القيمة العظمي \n",
        "#transformer = Normalizer(norm='l1' )\n",
        "# تستخدم l2 لجعل جذر مجموع مربعات كل صف هو القيمة العظمي \n",
        "#transformer = Normalizer(norm='l2' )\n",
        "# تستخدم max   لجعل القيمة العظمي في كل صف هي القيمة العظمي\n",
        "transformer = Normalizer(norm='max' )\n",
        "\n",
        "transformer.fit(X)\n",
        "transformer.transform(X)"
      ],
      "execution_count": null,
      "outputs": [
        {
          "output_type": "execute_result",
          "data": {
            "text/plain": [
              "array([[1.        , 0.25      , 0.5       , 0.5       ],\n",
              "       [0.11111111, 0.33333333, 1.        , 0.33333333],\n",
              "       [0.71428571, 1.        , 0.71428571, 0.14285714]])"
            ]
          },
          "metadata": {
            "tags": []
          },
          "execution_count": 7
        }
      ]
    },
    {
      "cell_type": "markdown",
      "metadata": {
        "id": "JnBHqurnTT04"
      },
      "source": [
        "## MaxAbsScaler\n",
        "مشابهة لـ normalizer\n",
        "\n",
        "لكن بالنسبة للعمود و ليس الصف حيث تجعل أكبر قيمة في كل عمود هي القيمة \n",
        "\n",
        "\n",
        "العظمي و تغير الباقيين علي اساسه"
      ]
    },
    {
      "cell_type": "code",
      "metadata": {
        "id": "u_qG8IHda_1w",
        "outputId": "ab169047-d3e5-463b-ae88-f0f81847b8eb",
        "colab": {
          "base_uri": "https://localhost:8080/",
          "height": 69
        }
      },
      "source": [
        "from sklearn.preprocessing import MaxAbsScaler\n",
        "X = [[ 1., 10., 2.],\n",
        "     [ 2., 0., 0.],\n",
        "     [ 5., 1., -1.]]\n",
        "transformer = MaxAbsScaler().fit(X)\n",
        "transformer\n",
        "transformer.transform(X)"
      ],
      "execution_count": null,
      "outputs": [
        {
          "output_type": "execute_result",
          "data": {
            "text/plain": [
              "array([[ 0.2,  1. ,  1. ],\n",
              "       [ 0.4,  0. ,  0. ],\n",
              "       [ 1. ,  0.1, -0.5]])"
            ]
          },
          "metadata": {
            "tags": []
          },
          "execution_count": 8
        }
      ]
    },
    {
      "cell_type": "markdown",
      "metadata": {
        "id": "6KPnHqbPTW6E"
      },
      "source": [
        "## FunctionTransformer\n",
        "\n",
        "وهي تستخدم لعمل سكيل بدالة اقوم كتابتها بنفسي\n",
        "\n",
        "\n",
        "FunctionTransformer(func=None, inverse_func=None, validate= None,\n",
        "                    accept_sparse=False,pass_y='deprecated', check_inverse=True,\n",
        "                    kw_args=None,inv_kw_args=None)"
      ]
    },
    {
      "cell_type": "code",
      "metadata": {
        "id": "S5ELahdEbKHo",
        "outputId": "4e01a56f-61bc-4603-dc2b-ce4a0f4a9635",
        "colab": {
          "base_uri": "https://localhost:8080/",
          "height": 69
        }
      },
      "source": [
        "import numpy as np\n",
        "from sklearn.preprocessing import FunctionTransformer\n",
        "\n",
        "X = [[4, 1, 2, 2], [1, 3, 9, 3], [5, 7, 5, 1]]\n",
        "\n",
        "def function1(z):\n",
        "    return np.sqrt(z)\n",
        "\n",
        "FT = FunctionTransformer(func = function1)\n",
        "FT.fit(X)\n",
        "newdata = FT.transform(X)\n",
        "newdata"
      ],
      "execution_count": null,
      "outputs": [
        {
          "output_type": "execute_result",
          "data": {
            "text/plain": [
              "array([[2.        , 1.        , 1.41421356, 1.41421356],\n",
              "       [1.        , 1.73205081, 3.        , 1.73205081],\n",
              "       [2.23606798, 2.64575131, 2.23606798, 1.        ]])"
            ]
          },
          "metadata": {
            "tags": []
          },
          "execution_count": 9
        }
      ]
    },
    {
      "cell_type": "markdown",
      "metadata": {
        "id": "0iG8EA15TPWE"
      },
      "source": [
        "## Binarizer\n",
        "\n",
        "و هي تقوم بتحويل كل الأرقام إلي صفر او واحد , حسب قيمة العتبة \n",
        "\n",
        "threshold"
      ]
    },
    {
      "cell_type": "code",
      "metadata": {
        "id": "8YvQxFhdbZ3p",
        "outputId": "092bc932-185b-4035-da73-fbb17da1798d",
        "colab": {
          "base_uri": "https://localhost:8080/",
          "height": 69
        }
      },
      "source": [
        "from sklearn.preprocessing import Binarizer\n",
        "X = [[ 1., -1., -2.],[ 2., 0., -1.], [ 0., 1., -1.]]\n",
        "\n",
        "transformer = Binarizer(threshold=1.5 ) \n",
        "transformer.fit(X)\n",
        "\n",
        "transformer\n",
        "\n",
        "transformer.transform(X)"
      ],
      "execution_count": null,
      "outputs": [
        {
          "output_type": "execute_result",
          "data": {
            "text/plain": [
              "array([[0., 0., 0.],\n",
              "       [1., 0., 0.],\n",
              "       [0., 0., 0.]])"
            ]
          },
          "metadata": {
            "tags": []
          },
          "execution_count": 10
        }
      ]
    },
    {
      "cell_type": "markdown",
      "metadata": {
        "id": "WF4JRemvTmjx"
      },
      "source": [
        "## PolynomialFeatures\n",
        "\n",
        "وهي خاصة بعمل فيتشرز جديدة , هي عبارة عن حاصل ضرب الفيتشرز الحالية بطريقة البولونوميال , فلو كانت الدرجة 2 مثلا , و كان لدينا اصلا عمودين فقط اي 2 فيتشرز , فسيعطي لنا علي الترتيب"
      ]
    },
    {
      "cell_type": "code",
      "metadata": {
        "id": "Wr3zrMULYwox",
        "outputId": "f2376e96-8950-402b-d4c1-77b75a1020b5",
        "colab": {
          "base_uri": "https://localhost:8080/",
          "height": 69
        }
      },
      "source": [
        "import numpy as np\n",
        "from sklearn.preprocessing import PolynomialFeatures\n",
        "X = np.arange(6).reshape(3, 2)\n",
        "print(X)"
      ],
      "execution_count": null,
      "outputs": [
        {
          "output_type": "stream",
          "text": [
            "[[0 1]\n",
            " [2 3]\n",
            " [4 5]]\n"
          ],
          "name": "stdout"
        }
      ]
    },
    {
      "cell_type": "code",
      "metadata": {
        "id": "ZdC6W-RSbkZV",
        "outputId": "2d948dc2-ce13-4c80-e3b9-d29f58b19953",
        "colab": {
          "base_uri": "https://localhost:8080/",
          "height": 69
        }
      },
      "source": [
        "# يتم كتابة الدرجة , وهل تحتوي علي قيمة بياس (رقم 1) ام لا\n",
        "\n",
        "poly = PolynomialFeatures(degree=2 , include_bias = True)\n",
        "poly.fit_transform(X)"
      ],
      "execution_count": null,
      "outputs": [
        {
          "output_type": "execute_result",
          "data": {
            "text/plain": [
              "array([[ 1.,  0.,  1.,  0.,  0.,  1.],\n",
              "       [ 1.,  2.,  3.,  4.,  6.,  9.],\n",
              "       [ 1.,  4.,  5., 16., 20., 25.]])"
            ]
          },
          "metadata": {
            "tags": []
          },
          "execution_count": 13
        }
      ]
    },
    {
      "cell_type": "code",
      "metadata": {
        "id": "LsICiG3rbuhc",
        "outputId": "44b9b4ff-ea10-4bd6-b233-eb976474cfc5",
        "colab": {
          "base_uri": "https://localhost:8080/",
          "height": 69
        }
      },
      "source": [
        "# ولو تم اختيار interaction_only  كقيمة True  سيعرض فقط قيم a  مضروبة في b  و يحذف الاسس للقيم الوحيدة\n",
        "\n",
        "poly = PolynomialFeatures(interaction_only=True)\n",
        "poly.fit_transform(X)\n"
      ],
      "execution_count": null,
      "outputs": [
        {
          "output_type": "execute_result",
          "data": {
            "text/plain": [
              "array([[ 1.,  0.,  1.,  0.],\n",
              "       [ 1.,  2.,  3.,  6.],\n",
              "       [ 1.,  4.,  5., 20.]])"
            ]
          },
          "metadata": {
            "tags": []
          },
          "execution_count": 14
        }
      ]
    }
  ]
}