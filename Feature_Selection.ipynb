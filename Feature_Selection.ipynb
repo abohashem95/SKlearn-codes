{
  "nbformat": 4,
  "nbformat_minor": 0,
  "metadata": {
    "colab": {
      "name": "Feature Selection.ipynb",
      "provenance": [],
      "collapsed_sections": [],
      "toc_visible": true,
      "authorship_tag": "ABX9TyP6mCDFlCjQN5U2tf4KzKl1",
      "include_colab_link": true
    },
    "kernelspec": {
      "name": "python3",
      "display_name": "Python 3"
    }
  },
  "cells": [
    {
      "cell_type": "markdown",
      "metadata": {
        "id": "view-in-github",
        "colab_type": "text"
      },
      "source": [
        "<a href=\"https://colab.research.google.com/github/abohashem95/SKlearn-codes/blob/main/Feature_Selection.ipynb\" target=\"_parent\"><img src=\"https://colab.research.google.com/assets/colab-badge.svg\" alt=\"Open In Colab\"/></a>"
      ]
    },
    {
      "cell_type": "markdown",
      "metadata": {
        "id": "sgTYhTJZP6Y9"
      },
      "source": [
        "# Feature Selection\n",
        "\n",
        "و هي خاصة باختيار الـ features  المطلوبة و المؤثرة و استبعاد الباقين ويتم اختيارها بناء علي مدي ارتباطها بالمخرج y , وتتم عبر الموديول feature_selection \n",
        "\n",
        "\n",
        "\n",
        "\n",
        "**feature_selection.SelectPercentile**\n",
        "\n",
        "**feature_selection.GenericUnivariateSelect**\n",
        "\n",
        "**feature_selection.SelectKBest**\n",
        "\n",
        "**feature_selection.SelectFromModel**\n",
        "\n"
      ]
    },
    {
      "cell_type": "markdown",
      "metadata": {
        "id": "kg1vyWJlukbC"
      },
      "source": [
        "## SelectPercentile\n",
        "\n",
        "يتم استخدام اداة selectpercentile  واللي بتختار اهم فيتشرز مرتبطة بالناتج حسب النسبة المئوية المعطاة , ويتم تحديد مقدار الاهمية بطرق عديدة , مثل أداة  f_classif  او أداة   chi2"
      ]
    },
    {
      "cell_type": "code",
      "metadata": {
        "id": "ioDtFVvxPdWv",
        "outputId": "389618c4-baa6-4623-d591-5224bb7b8c8a",
        "colab": {
          "base_uri": "https://localhost:8080/",
          "height": 52
        }
      },
      "source": [
        "# example \n",
        "\n",
        "from sklearn.datasets import load_digits\n",
        "from sklearn.feature_selection import SelectPercentile, chi2\n",
        "X, y = load_digits(return_X_y=True)\n",
        "# هنا يتم اظهار عدد فيتشرز الداتا و هي 64 \n",
        "print(X.shape)\n",
        "\n",
        "# نقوم بجعله يختار اهم 10 % منهم اي 7 فيشترز \n",
        "X_new = SelectPercentile(score_func =chi2, percentile=10).fit_transform(X, y)\n",
        "\n",
        "print(X_new.shape)\n"
      ],
      "execution_count": 7,
      "outputs": [
        {
          "output_type": "stream",
          "text": [
            "(1797, 64)\n",
            "(1797, 7)\n"
          ],
          "name": "stdout"
        }
      ]
    },
    {
      "cell_type": "code",
      "metadata": {
        "id": "3qK0bx8DvMMy",
        "outputId": "06521094-ff97-4b2a-95e8-1821e4f6668c",
        "colab": {
          "base_uri": "https://localhost:8080/",
          "height": 52
        }
      },
      "source": [
        "# example 2\n",
        "from sklearn.datasets import load_breast_cancer\n",
        "from sklearn.feature_selection import SelectPercentile   , chi2 \n",
        " \n",
        "data = load_breast_cancer()\n",
        "X = data.data\n",
        "y = data.target\n",
        "print(X.shape)\n",
        "sel = SelectPercentile(score_func = chi2 , percentile = 20).fit_transform(X,y)\n",
        "print(sel.shape)"
      ],
      "execution_count": 11,
      "outputs": [
        {
          "output_type": "stream",
          "text": [
            "(569, 30)\n",
            "(569, 6)\n"
          ],
          "name": "stdout"
        }
      ]
    },
    {
      "cell_type": "code",
      "metadata": {
        "id": "OIh85P8SzuJu",
        "outputId": "5095f68a-0276-498d-f5ae-a6958cd0f907",
        "colab": {
          "base_uri": "https://localhost:8080/",
          "height": 191
        }
      },
      "source": [
        "# knowing features\n",
        "\n",
        "from sklearn.datasets import load_digits\n",
        "from sklearn.feature_selection import SelectPercentile, chi2\n",
        "X, y = load_digits(return_X_y=True)\n",
        "print(X.shape)\n",
        "\n",
        "X_new = SelectPercentile(score_func =chi2, percentile=10)\n",
        "X_new.fit(X, y)\n",
        "selected = X_new.transform(X)\n",
        "print(selected.shape)\n",
        "X_new.get_support()"
      ],
      "execution_count": 14,
      "outputs": [
        {
          "output_type": "stream",
          "text": [
            "(1797, 64)\n",
            "(1797, 7)\n"
          ],
          "name": "stdout"
        },
        {
          "output_type": "execute_result",
          "data": {
            "text/plain": [
              "array([False, False, False, False, False, False, False, False, False,\n",
              "       False, False, False, False, False, False, False, False, False,\n",
              "       False, False, False, False, False, False, False, False, False,\n",
              "       False, False, False,  True, False, False,  True,  True, False,\n",
              "       False, False, False, False, False, False,  True,  True, False,\n",
              "       False, False, False, False, False, False, False, False, False,\n",
              "        True, False, False, False, False, False, False, False,  True,\n",
              "       False])"
            ]
          },
          "metadata": {
            "tags": []
          },
          "execution_count": 14
        }
      ]
    },
    {
      "cell_type": "markdown",
      "metadata": {
        "id": "LTIymF1p15Ao"
      },
      "source": [
        "## Generic Univariate Select\n",
        "\n",
        "بيتم تحديد الفيتشرز عن طريق عدد الفيتشرز اللي انا بختاره\n",
        "\n",
        "وعن طريق الالجوريزم انا اللي بحدده برضو \n",
        "\n",
        "هنا بيستخدم الجوريزم kbest\n",
        "\n",
        "\n",
        "وبيستخدم chi2 tool "
      ]
    },
    {
      "cell_type": "code",
      "metadata": {
        "id": "XTWO4jDt0SX5",
        "outputId": "d8e16212-8be7-409f-d647-9ffff503056a",
        "colab": {
          "base_uri": "https://localhost:8080/",
          "height": 121
        }
      },
      "source": [
        "# example \n",
        "\n",
        "from sklearn.datasets import load_breast_cancer\n",
        "from sklearn.feature_selection import GenericUnivariateSelect, chi2\n",
        "X, y = load_breast_cancer(return_X_y=True)\n",
        "print(X.shape)\n",
        "\n",
        "transformer = GenericUnivariateSelect(chi2, 'k_best', param=5)\n",
        "X_new = transformer.fit_transform(X, y)\n",
        "\n",
        "print(X_new.shape)\n",
        "\n",
        "transformer.get_support()\n"
      ],
      "execution_count": 15,
      "outputs": [
        {
          "output_type": "stream",
          "text": [
            "(569, 30)\n",
            "(569, 5)\n"
          ],
          "name": "stdout"
        },
        {
          "output_type": "execute_result",
          "data": {
            "text/plain": [
              "array([False, False,  True,  True, False, False, False, False, False,\n",
              "       False, False, False, False,  True, False, False, False, False,\n",
              "       False, False, False, False,  True,  True, False, False, False,\n",
              "       False, False, False])"
            ]
          },
          "metadata": {
            "tags": []
          },
          "execution_count": 15
        }
      ]
    },
    {
      "cell_type": "markdown",
      "metadata": {
        "id": "crjj4y3L29Xj"
      },
      "source": [
        "## Select KBest\n",
        "\n",
        "هنا بيستخدم الجوريزم (kbest) علي طول "
      ]
    },
    {
      "cell_type": "code",
      "metadata": {
        "id": "F539r7Ny2BPg",
        "outputId": "553cac82-6d22-43e3-998d-acc08e699edf",
        "colab": {
          "base_uri": "https://localhost:8080/",
          "height": 52
        }
      },
      "source": [
        "# example\n",
        "from sklearn.datasets import load_digits\n",
        "from sklearn.feature_selection import SelectKBest, chi2\n",
        "X, y = load_digits(return_X_y=True)\n",
        "print(X.shape)\n",
        "\n",
        "X_new = SelectKBest(chi2, k=30).fit_transform(X, y)\n",
        "\n",
        "print(X_new.shape)"
      ],
      "execution_count": 16,
      "outputs": [
        {
          "output_type": "stream",
          "text": [
            "(1797, 64)\n",
            "(1797, 30)\n"
          ],
          "name": "stdout"
        }
      ]
    },
    {
      "cell_type": "markdown",
      "metadata": {
        "id": "JMldAdy44jAE"
      },
      "source": [
        "## Select From Model\n",
        "\n",
        "يتم اختيار الفيتشر بناء علي موديل معين  بحيث الموديل نفسه يشوف انهي فيشترز مهمة , وده بامر\n",
        "\n",
        " selectfrommodel"
      ]
    },
    {
      "cell_type": "code",
      "metadata": {
        "id": "-gwyIziK3Mz9",
        "outputId": "0bb78054-ad6f-4050-ccdf-2984d1663da5",
        "colab": {
          "base_uri": "https://localhost:8080/",
          "height": 86
        }
      },
      "source": [
        "from sklearn.datasets import load_breast_cancer\n",
        "from sklearn.ensemble import RandomForestClassifier\n",
        "from sklearn.feature_selection import SelectFromModel\n",
        "data = load_breast_cancer()\n",
        "X = data.data\n",
        "y = data.target\n",
        "# تم تحديد موديل RandomForest ,\n",
        "# برقم 20 لها , وعلي اساسها هيتم اختيار اقوي فيتشرز\n",
        "sel = SelectFromModel(RandomForestClassifier(n_estimators = 20)) \n",
        "sel.fit(X,y)\n",
        "selected_features = sel.transform(X)\n",
        "sel.get_support()"
      ],
      "execution_count": 17,
      "outputs": [
        {
          "output_type": "execute_result",
          "data": {
            "text/plain": [
              "array([False, False, False,  True, False, False,  True,  True, False,\n",
              "       False, False, False, False, False, False, False, False, False,\n",
              "       False, False,  True, False,  True,  True, False, False,  True,\n",
              "        True, False, False])"
            ]
          },
          "metadata": {
            "tags": []
          },
          "execution_count": 17
        }
      ]
    },
    {
      "cell_type": "markdown",
      "metadata": {
        "id": "Nkz1DycQ5fja"
      },
      "source": [
        "لاحظ ان مش لازم يتم اختيار نفس الموديل في الترين , ممكن موديل تاني , فاختيار الفيتشرز عادي من موديل مختلف , كمان متنساش ان ممكن يتم عمل خطوات ورا بعص , يعني مثلا بولينوميال عشان اعمل فيتشرز كتير جدا , بعدها اجيب موديل يختار منهم "
      ]
    }
  ]
}