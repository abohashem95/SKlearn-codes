{
  "nbformat": 4,
  "nbformat_minor": 0,
  "metadata": {
    "colab": {
      "name": "Linear Regression.ipynb",
      "provenance": [],
      "collapsed_sections": [
        "KysRJozEMnTZ",
        "mfrlCWJNaPAu"
      ],
      "mount_file_id": "12p8AkJTzKEiz2SDBJ3FX43xYcdtB-sAl",
      "authorship_tag": "ABX9TyPYmnRtbSZv2DSp0v1xitax",
      "include_colab_link": true
    },
    "kernelspec": {
      "name": "python3",
      "display_name": "Python 3"
    }
  },
  "cells": [
    {
      "cell_type": "markdown",
      "metadata": {
        "id": "view-in-github",
        "colab_type": "text"
      },
      "source": [
        "<a href=\"https://colab.research.google.com/github/abohashem95/SKlearn-codes/blob/main/Linear_Regression.ipynb\" target=\"_parent\"><img src=\"https://colab.research.google.com/assets/colab-badge.svg\" alt=\"Open In Colab\"/></a>"
      ]
    },
    {
      "cell_type": "markdown",
      "metadata": {
        "id": "LNk0DKB1L1KP"
      },
      "source": [
        "# Linear Regression\n",
        "\n",
        "\n",
        "---\n",
        "\n",
        "have 3 types \n",
        "\n",
        "\n",
        "1.   linear_model.LinearRegression\t\t:\t\tالتوقع الخطي دون تنعيم\n",
        "2.   linear_model.Ridge\t\t\t\t:\t\tالتوقع الخطي بتنعيم ريدج\n",
        "3.   linear_model.Lasso\t\t\t\t:\t\tالتوقع الخطي بتنعيم لاسو\n",
        "4.   linear_model.SGDRegressor\t\t\t:\t\tالتوقع الخطي بتنعيم الإنحدار العشوائي\n",
        "\n",
        "\n",
        "\n",
        "\n"
      ]
    },
    {
      "cell_type": "markdown",
      "metadata": {
        "id": "KysRJozEMnTZ"
      },
      "source": [
        "## Linear Regression"
      ]
    },
    {
      "cell_type": "markdown",
      "metadata": {
        "id": "83kdMi_KohCm"
      },
      "source": [
        "### General Example"
      ]
    },
    {
      "cell_type": "code",
      "metadata": {
        "id": "AsNVBn5MLdTt",
        "outputId": "d789466b-2eba-421f-f993-790bc31a99ce",
        "colab": {
          "base_uri": "https://localhost:8080/",
          "height": 0
        }
      },
      "source": [
        "# import libraries\n",
        "\n",
        "from sklearn.datasets import load_boston\n",
        "from sklearn.model_selection import train_test_split\n",
        "from sklearn.linear_model import LinearRegression\n",
        "from sklearn.metrics import mean_absolute_error\n",
        "from sklearn.metrics import mean_squared_error\n",
        "from sklearn.metrics import median_absolute_error\n",
        "\n",
        "\n",
        "Boston = load_boston()\n",
        "\n",
        "X = Boston.data\n",
        "Y = Boston.target\n",
        "\n",
        "print(\"X data is: \\n\", X)\n",
        "print(\"---------------------------------\")\n",
        "print(\"Y data is: \\n\", Y)\n",
        "print(\"---------------------------------\")\n",
        "print(\"X shape is: \", X.shape)\n",
        "print(\"Y shape is: \", Y.shape)"
      ],
      "execution_count": 190,
      "outputs": [
        {
          "output_type": "stream",
          "text": [
            "X data is: \n",
            " [[6.3200e-03 1.8000e+01 2.3100e+00 ... 1.5300e+01 3.9690e+02 4.9800e+00]\n",
            " [2.7310e-02 0.0000e+00 7.0700e+00 ... 1.7800e+01 3.9690e+02 9.1400e+00]\n",
            " [2.7290e-02 0.0000e+00 7.0700e+00 ... 1.7800e+01 3.9283e+02 4.0300e+00]\n",
            " ...\n",
            " [6.0760e-02 0.0000e+00 1.1930e+01 ... 2.1000e+01 3.9690e+02 5.6400e+00]\n",
            " [1.0959e-01 0.0000e+00 1.1930e+01 ... 2.1000e+01 3.9345e+02 6.4800e+00]\n",
            " [4.7410e-02 0.0000e+00 1.1930e+01 ... 2.1000e+01 3.9690e+02 7.8800e+00]]\n",
            "---------------------------------\n",
            "Y data is: \n",
            " [24.  21.6 34.7 33.4 36.2 28.7 22.9 27.1 16.5 18.9 15.  18.9 21.7 20.4\n",
            " 18.2 19.9 23.1 17.5 20.2 18.2 13.6 19.6 15.2 14.5 15.6 13.9 16.6 14.8\n",
            " 18.4 21.  12.7 14.5 13.2 13.1 13.5 18.9 20.  21.  24.7 30.8 34.9 26.6\n",
            " 25.3 24.7 21.2 19.3 20.  16.6 14.4 19.4 19.7 20.5 25.  23.4 18.9 35.4\n",
            " 24.7 31.6 23.3 19.6 18.7 16.  22.2 25.  33.  23.5 19.4 22.  17.4 20.9\n",
            " 24.2 21.7 22.8 23.4 24.1 21.4 20.  20.8 21.2 20.3 28.  23.9 24.8 22.9\n",
            " 23.9 26.6 22.5 22.2 23.6 28.7 22.6 22.  22.9 25.  20.6 28.4 21.4 38.7\n",
            " 43.8 33.2 27.5 26.5 18.6 19.3 20.1 19.5 19.5 20.4 19.8 19.4 21.7 22.8\n",
            " 18.8 18.7 18.5 18.3 21.2 19.2 20.4 19.3 22.  20.3 20.5 17.3 18.8 21.4\n",
            " 15.7 16.2 18.  14.3 19.2 19.6 23.  18.4 15.6 18.1 17.4 17.1 13.3 17.8\n",
            " 14.  14.4 13.4 15.6 11.8 13.8 15.6 14.6 17.8 15.4 21.5 19.6 15.3 19.4\n",
            " 17.  15.6 13.1 41.3 24.3 23.3 27.  50.  50.  50.  22.7 25.  50.  23.8\n",
            " 23.8 22.3 17.4 19.1 23.1 23.6 22.6 29.4 23.2 24.6 29.9 37.2 39.8 36.2\n",
            " 37.9 32.5 26.4 29.6 50.  32.  29.8 34.9 37.  30.5 36.4 31.1 29.1 50.\n",
            " 33.3 30.3 34.6 34.9 32.9 24.1 42.3 48.5 50.  22.6 24.4 22.5 24.4 20.\n",
            " 21.7 19.3 22.4 28.1 23.7 25.  23.3 28.7 21.5 23.  26.7 21.7 27.5 30.1\n",
            " 44.8 50.  37.6 31.6 46.7 31.5 24.3 31.7 41.7 48.3 29.  24.  25.1 31.5\n",
            " 23.7 23.3 22.  20.1 22.2 23.7 17.6 18.5 24.3 20.5 24.5 26.2 24.4 24.8\n",
            " 29.6 42.8 21.9 20.9 44.  50.  36.  30.1 33.8 43.1 48.8 31.  36.5 22.8\n",
            " 30.7 50.  43.5 20.7 21.1 25.2 24.4 35.2 32.4 32.  33.2 33.1 29.1 35.1\n",
            " 45.4 35.4 46.  50.  32.2 22.  20.1 23.2 22.3 24.8 28.5 37.3 27.9 23.9\n",
            " 21.7 28.6 27.1 20.3 22.5 29.  24.8 22.  26.4 33.1 36.1 28.4 33.4 28.2\n",
            " 22.8 20.3 16.1 22.1 19.4 21.6 23.8 16.2 17.8 19.8 23.1 21.  23.8 23.1\n",
            " 20.4 18.5 25.  24.6 23.  22.2 19.3 22.6 19.8 17.1 19.4 22.2 20.7 21.1\n",
            " 19.5 18.5 20.6 19.  18.7 32.7 16.5 23.9 31.2 17.5 17.2 23.1 24.5 26.6\n",
            " 22.9 24.1 18.6 30.1 18.2 20.6 17.8 21.7 22.7 22.6 25.  19.9 20.8 16.8\n",
            " 21.9 27.5 21.9 23.1 50.  50.  50.  50.  50.  13.8 13.8 15.  13.9 13.3\n",
            " 13.1 10.2 10.4 10.9 11.3 12.3  8.8  7.2 10.5  7.4 10.2 11.5 15.1 23.2\n",
            "  9.7 13.8 12.7 13.1 12.5  8.5  5.   6.3  5.6  7.2 12.1  8.3  8.5  5.\n",
            " 11.9 27.9 17.2 27.5 15.  17.2 17.9 16.3  7.   7.2  7.5 10.4  8.8  8.4\n",
            " 16.7 14.2 20.8 13.4 11.7  8.3 10.2 10.9 11.   9.5 14.5 14.1 16.1 14.3\n",
            " 11.7 13.4  9.6  8.7  8.4 12.8 10.5 17.1 18.4 15.4 10.8 11.8 14.9 12.6\n",
            " 14.1 13.  13.4 15.2 16.1 17.8 14.9 14.1 12.7 13.5 14.9 20.  16.4 17.7\n",
            " 19.5 20.2 21.4 19.9 19.  19.1 19.1 20.1 19.9 19.6 23.2 29.8 13.8 13.3\n",
            " 16.7 12.  14.6 21.4 23.  23.7 25.  21.8 20.6 21.2 19.1 20.6 15.2  7.\n",
            "  8.1 13.6 20.1 21.8 24.5 23.1 19.7 18.3 21.2 17.5 16.8 22.4 20.6 23.9\n",
            " 22.  11.9]\n",
            "---------------------------------\n",
            "X shape is:  (506, 13)\n",
            "Y shape is:  (506,)\n"
          ],
          "name": "stdout"
        }
      ]
    },
    {
      "cell_type": "code",
      "metadata": {
        "id": "Z59eIdWAM7ax",
        "outputId": "510e6a75-fcbb-4710-96e5-31be1b35f2b3",
        "colab": {
          "base_uri": "https://localhost:8080/",
          "height": 0
        }
      },
      "source": [
        "# spliting data \n",
        "\n",
        "x_train,x_test,y_train,y_test = train_test_split(X,Y,test_size = 0.33,random_state = 44,shuffle = True)\n",
        "\n",
        "print(\"x train shape: \", x_train.shape)\n",
        "print(\"x test shape : \", x_test.shape)\n",
        "print(\"y train shape: \", y_train.shape)\n",
        "print(\"y test shape: \", y_test.shape)"
      ],
      "execution_count": 191,
      "outputs": [
        {
          "output_type": "stream",
          "text": [
            "x train shape:  (339, 13)\n",
            "x test shape :  (167, 13)\n",
            "y train shape:  (339,)\n",
            "y test shape:  (167,)\n"
          ],
          "name": "stdout"
        }
      ]
    },
    {
      "cell_type": "code",
      "metadata": {
        "id": "rYG1fV4AQG20",
        "outputId": "6e9c666d-fe1d-4dd7-e450-08d2fa375948",
        "colab": {
          "base_uri": "https://localhost:8080/",
          "height": 0
        }
      },
      "source": [
        "# applying Linear Regression Model \n",
        "# make object\n",
        "LR = LinearRegression(fit_intercept= True, normalize= True, copy_X= True, n_jobs=-1)\n",
        "# fit train data \n",
        "LR.fit(x_train,y_train)\n"
      ],
      "execution_count": 192,
      "outputs": [
        {
          "output_type": "execute_result",
          "data": {
            "text/plain": [
              "LinearRegression(copy_X=True, fit_intercept=True, n_jobs=-1, normalize=True)"
            ]
          },
          "metadata": {
            "tags": []
          },
          "execution_count": 192
        }
      ]
    },
    {
      "cell_type": "code",
      "metadata": {
        "id": "UbYX4SBDUVWe",
        "outputId": "1d44b814-1b64-4c65-9ebd-203667d6cb00",
        "colab": {
          "base_uri": "https://localhost:8080/",
          "height": 0
        }
      },
      "source": [
        "# Calculating more details\n",
        "\n",
        "print(\"Linear Regression Train Score: \", LR.score(x_train,y_train))\n",
        "print(\"---------------------------------\")\n",
        "print(\"Linear Regression Test Score: \", LR.score(x_test,y_test))\n",
        "print(\"---------------------------------\")\n",
        "print(\"Linear Regression Coef: \", LR.coef_)\n",
        "print(\"---------------------------------\")\n",
        "print(\"Linear Regression Intercept: \", LR.intercept_)\n"
      ],
      "execution_count": 193,
      "outputs": [
        {
          "output_type": "stream",
          "text": [
            "Linear Regression Train Score:  0.7391405291456343\n",
            "---------------------------------\n",
            "Linear Regression Test Score:  0.7194574243020464\n",
            "---------------------------------\n",
            "Linear Regression Coef:  [-1.52786535e-01  5.83438345e-02 -5.25729795e-02  1.74968794e+00\n",
            " -1.82628401e+01  3.19751214e+00 -1.82120263e-03 -1.79227933e+00\n",
            "  3.02644015e-01 -1.26348509e-02 -8.73594266e-01  1.05892477e-02\n",
            " -4.68960863e-01]\n",
            "---------------------------------\n",
            "Linear Regression Intercept:  40.16387456471213\n"
          ],
          "name": "stdout"
        }
      ]
    },
    {
      "cell_type": "code",
      "metadata": {
        "id": "sy8lIiufVim5",
        "outputId": "79f5d504-c421-45df-b587-fc16e4903cba",
        "colab": {
          "base_uri": "https://localhost:8080/",
          "height": 0
        }
      },
      "source": [
        "# Calculating predict\n",
        "\n",
        "y_pred = LR.predict(x_test)\n",
        "print(\"y prediction are: \\n\", y_pred)"
      ],
      "execution_count": 194,
      "outputs": [
        {
          "output_type": "stream",
          "text": [
            "y prediction are: \n",
            " [18.08835763 24.29913209 21.29334432 35.15238698 11.99842784 32.40498032\n",
            " 19.68065774 24.85610743 30.68930394 21.75521651 22.66346792 21.52818135\n",
            " 18.08280336 26.10726852 28.9495925   6.7505865  21.34864387 23.46690035\n",
            " 13.37675538 19.966788   30.00048292 27.5802598  35.0443906  25.80185682\n",
            " 16.24802412 19.80923734 -4.34317153 17.40633543 18.35732124 34.42127398\n",
            " 19.72873802 18.24316575 16.08003334 15.04516655 20.60750697 19.03639858\n",
            " 19.02934088 33.81089666 28.08037341 27.64375258 20.53477463 17.34329761\n",
            " 33.32549255 22.2994745  16.83206873 12.11265059 37.00313271 30.79545023\n",
            "  8.61174447 18.30791779 30.42806778 21.9058757  16.56891246 13.50258934\n",
            " 27.66406031 16.67542469 35.10408819 41.74886355 12.19872784 20.21473523\n",
            " 16.28584646 14.76715491 15.75556361 21.49866657 24.40703573 21.18190028\n",
            " 28.69012445 23.86613366 33.75979122 25.9703389  15.81741957 12.44865436\n",
            " 37.16333891 19.78422281 21.07047051 17.0136775  17.66227137 35.76688194\n",
            " 27.44747625  9.87747119 21.52304595 19.34468175 21.40519253 33.01410383\n",
            " 19.28006304 20.79534997 17.70962673 24.20359436 27.8174555   6.34005201\n",
            " 23.69927039 19.31009932 25.21259418 10.27180242 19.42307732 24.22189366\n",
            " 42.74479372 25.44917349 15.43809986 25.46058613 28.66656589 19.31567113\n",
            " 23.46719889 11.47903447 22.40078181 24.4502232  20.48083829 26.32060389\n",
            " 18.8886098  18.01846544 30.76021849 22.42952919 34.43180278 31.05504029\n",
            " 30.51099211 20.78263236 27.3839213  34.58482014  6.11526152 18.23802132\n",
            " 37.4704445  23.80948593 19.21524776 22.71457143 24.76519731 30.49820329\n",
            " 24.20354839 17.22088179 22.67883268 22.21607151 19.20520675 26.11232033\n",
            " 20.32251493 21.7301928  16.06928639 23.40106913 35.23619948 29.36852052\n",
            " 15.18270721 12.08595401 18.82553626 18.49113793 18.2084742  38.65247756\n",
            " 23.54592636 27.12590248 27.045825   23.49544881 36.40532108 26.46832279\n",
            " 19.50672278 15.35750711 24.81839171 11.40289466 31.83228585 36.44982873\n",
            " 23.09552077 22.72432418 20.47573129 37.64003464 27.56795022 32.10642581\n",
            "  2.91777326 15.81847067 34.84346471 17.21163367 22.84696188]\n"
          ],
          "name": "stdout"
        }
      ]
    },
    {
      "cell_type": "code",
      "metadata": {
        "id": "aWsYv3QLkPUA",
        "outputId": "3149341c-9fb0-4ad9-9e6a-46e047d48160",
        "colab": {
          "base_uri": "https://localhost:8080/",
          "height": 0
        }
      },
      "source": [
        "# Mean Absolute Error Value \n",
        "MAEValue = mean_absolute_error(y_test, y_pred, multioutput=\"uniform_average\")\n",
        "print(\"Mean absolute error value is: \", MAEValue)"
      ],
      "execution_count": 195,
      "outputs": [
        {
          "output_type": "stream",
          "text": [
            "Mean absolute error value is:  3.639793518611557\n"
          ],
          "name": "stdout"
        }
      ]
    },
    {
      "cell_type": "code",
      "metadata": {
        "id": "D9qhbNpelNuS",
        "outputId": "d65ce147-074e-417f-c701-114d1df1f7b3",
        "colab": {
          "base_uri": "https://localhost:8080/",
          "height": 0
        }
      },
      "source": [
        "# Mean Squared Error Value \n",
        "\n",
        "MSEValue = mean_squared_error(y_test, y_pred,multioutput=\"uniform_average\")\n",
        "print(\"Mean Squared Error Value iRegressions: \", MSEValue)"
      ],
      "execution_count": 196,
      "outputs": [
        {
          "output_type": "stream",
          "text": [
            "Mean Squared Error Value iRegressions:  27.593562379656753\n"
          ],
          "name": "stdout"
        }
      ]
    },
    {
      "cell_type": "code",
      "metadata": {
        "id": "DD5XbJWtnTV7",
        "outputId": "568691b5-ca6d-4680-cffe-6afc3e4e4874",
        "colab": {
          "base_uri": "https://localhost:8080/",
          "height": 0
        }
      },
      "source": [
        "# Median Absolute Error Value\n",
        "\n",
        "MedianAEValue = median_absolute_error(y_test, y_pred, multioutput=\"uniform_average\")\n",
        "print(\"Meadian Absolute Error Value is: \", MedianAEValue)"
      ],
      "execution_count": 197,
      "outputs": [
        {
          "output_type": "stream",
          "text": [
            "Meadian Absolute Error Value is:  2.5619786821948516\n"
          ],
          "name": "stdout"
        }
      ]
    },
    {
      "cell_type": "code",
      "metadata": {
        "id": "8QMYpqL1oFSw"
      },
      "source": [
        ""
      ],
      "execution_count": 197,
      "outputs": []
    },
    {
      "cell_type": "markdown",
      "metadata": {
        "id": "s6MrIJCmolh6"
      },
      "source": [
        "### One Variable Example"
      ]
    },
    {
      "cell_type": "code",
      "metadata": {
        "id": "dAzm7mRMoqjR"
      },
      "source": [
        "# import libraries \n",
        "import matplotlib.pyplot as plt\n",
        "import pandas as pd\n",
        "from sklearn.model_selection import train_test_split\n",
        "from sklearn.linear_model import LinearRegression\n",
        "from sklearn.metrics import mean_absolute_error, mean_squared_error, median_absolute_error"
      ],
      "execution_count": 198,
      "outputs": []
    },
    {
      "cell_type": "code",
      "metadata": {
        "id": "tThYBasMwxsL",
        "outputId": "0a7039c8-5841-45e4-e0a1-290a55612d5c",
        "colab": {
          "base_uri": "https://localhost:8080/",
          "height": 0
        }
      },
      "source": [
        "# importing the dataset\n",
        "\n",
        "data = pd.read_csv(\"satf.csv\",)\n",
        "print(data.head())\n",
        "print(\"-----------------------------------\")\n",
        "X = data.iloc[:,:1]\n",
        "print(X.head())\n",
        "print(\"-----------------------------------\")\n",
        "Y = data.iloc[:,-1]\n",
        "print(Y.head())"
      ],
      "execution_count": 199,
      "outputs": [
        {
          "output_type": "stream",
          "text": [
            "   high_GPA  math_SAT  verb_SAT  comp_GPA  univ_GPA\n",
            "0      3.45       643       589      3.76      3.52\n",
            "1      2.78       558       512      2.87      2.91\n",
            "2      2.52       583       503      2.54      2.40\n",
            "3      3.67       685       602      3.83      3.47\n",
            "4      3.24       592       538      3.29      3.47\n",
            "-----------------------------------\n",
            "   high_GPA\n",
            "0      3.45\n",
            "1      2.78\n",
            "2      2.52\n",
            "3      3.67\n",
            "4      3.24\n",
            "-----------------------------------\n",
            "0    3.52\n",
            "1    2.91\n",
            "2    2.40\n",
            "3    3.47\n",
            "4    3.47\n",
            "Name: univ_GPA, dtype: float64\n"
          ],
          "name": "stdout"
        }
      ]
    },
    {
      "cell_type": "code",
      "metadata": {
        "id": "_WUIwO5TxG-T"
      },
      "source": [
        "# spliting data\n",
        "\n",
        "x_train, x_test, y_train, y_test = train_test_split(X,Y, test_size = 0.2, random_state = 44,shuffle = True)\n",
        "\n",
        "from sklearn.preprocessing import PolynomialFeatures"
      ],
      "execution_count": 200,
      "outputs": []
    },
    {
      "cell_type": "code",
      "metadata": {
        "id": "A4Ss02620Gk1"
      },
      "source": [
        "# linear regression \n",
        "\n",
        "LR = LinearRegression()\n",
        "LR.fit(x_train,y_train)\n",
        "from sklearn.preprocessing import PolynomialFeatures"
      ],
      "execution_count": 201,
      "outputs": []
    },
    {
      "cell_type": "code",
      "metadata": {
        "id": "60ovsSMZIYbX",
        "outputId": "6f70681a-b69d-44aa-d67a-80fa1c6d0567",
        "colab": {
          "base_uri": "https://localhost:8080/",
          "height": 0
        }
      },
      "source": [
        "# calculate score \n",
        "\n",
        "print(\"train score: \", LR.score(x_train, y_train))\n",
        "print(\"test score: \", LR.score(x_test, y_test))"
      ],
      "execution_count": 202,
      "outputs": [
        {
          "output_type": "stream",
          "text": [
            "train score:  0.6105262612528566\n",
            "test score:  0.5563892824394259\n"
          ],
          "name": "stdout"
        }
      ]
    },
    {
      "cell_type": "code",
      "metadata": {
        "id": "b3KnyNvfJIIR",
        "outputId": "fc209278-9f53-4828-ccb6-9f0a8dfcb4ad",
        "colab": {
          "base_uri": "https://localhost:8080/",
          "height": 0
        }
      },
      "source": [
        "# prediction\n",
        "\n",
        "y_pred = LR.predict(x_test)\n",
        "print(\"y predict: \\n\", y_pred)"
      ],
      "execution_count": 203,
      "outputs": [
        {
          "output_type": "stream",
          "text": [
            "y predict: \n",
            " [3.13234608 2.45222387 2.4934434  2.67893128 3.24913474 2.76137033\n",
            " 3.19417537 3.50332183 2.56214261 2.85754923 3.46897223 3.40027301\n",
            " 2.80258986 2.88502891 2.87128907 3.43462262 2.89189884 3.53767144\n",
            " 3.45523238 2.52779301 3.50332183]\n"
          ],
          "name": "stdout"
        }
      ]
    },
    {
      "cell_type": "code",
      "metadata": {
        "id": "rEzrl58eJWRF",
        "outputId": "d5530982-5fa5-4e43-93d1-5cbdb185b107",
        "colab": {
          "base_uri": "https://localhost:8080/",
          "height": 0
        }
      },
      "source": [
        "# Mean Absolute Error Value \n",
        "\n",
        "MAEValue = mean_absolute_error(y_test, y_pred)\n",
        "print(\"Mean Absolute Error Value is: \", MAEValue)"
      ],
      "execution_count": 204,
      "outputs": [
        {
          "output_type": "stream",
          "text": [
            "Mean Absolute Error Value is:  0.22495992828043287\n"
          ],
          "name": "stdout"
        }
      ]
    },
    {
      "cell_type": "code",
      "metadata": {
        "id": "iREXF0c6Mqu2",
        "outputId": "0f5b61b3-a95b-4524-a324-09f568f80734",
        "colab": {
          "base_uri": "https://localhost:8080/",
          "height": 0
        }
      },
      "source": [
        "# Mean Squared Error Value \n",
        "\n",
        "MSEValue = mean_squared_error(y_test, y_pred)\n",
        "print(\"Mean Squared Error Value is: \", MSEValue)\n"
      ],
      "execution_count": 205,
      "outputs": [
        {
          "output_type": "stream",
          "text": [
            "Mean Squared Error Value is:  0.09442772172073968\n"
          ],
          "name": "stdout"
        }
      ]
    },
    {
      "cell_type": "code",
      "metadata": {
        "id": "BmRAwEH7NHZW",
        "outputId": "b8c807d8-a307-4c26-b127-db0686532e3b",
        "colab": {
          "base_uri": "https://localhost:8080/",
          "height": 0
        }
      },
      "source": [
        "# median Absolute Error Value\n",
        "\n",
        "MedianAEValue = median_absolute_error(y_test, y_pred)\n",
        "print(\"Median Absolute Error Value is: \", MedianAEValue)"
      ],
      "execution_count": 206,
      "outputs": [
        {
          "output_type": "stream",
          "text": [
            "Median Absolute Error Value is:  0.18810116427862766\n"
          ],
          "name": "stdout"
        }
      ]
    },
    {
      "cell_type": "code",
      "metadata": {
        "id": "NhvD320UOPkG",
        "outputId": "daa194ca-cc4b-4e12-a1d3-8ff6d42aad75",
        "colab": {
          "base_uri": "https://localhost:8080/",
          "height": 0
        }
      },
      "source": [
        "# visualizing the traning set results\n",
        "\n",
        "plt.scatter(x_train, y_train, c=\"red\")\n",
        "plt.scatter(x_test, y_test, c=\"green\")\n",
        "plt.plot(x_train, LR.predict(x_train),c=\"blue\")\n",
        "plt.title('SAT degrees')\n",
        "plt.xlabel('high_GPA')\n",
        "plt.ylabel('univ_GPA')\n",
        "plt.show()\n"
      ],
      "execution_count": 207,
      "outputs": [
        {
          "output_type": "display_data",
          "data": {
            "image/png": "[encoded data removed]",
            "text/plain": [
              "<Figure size 432x288 with 1 Axes>"
            ]
          },
          "metadata": {
            "tags": [],
            "needs_background": "light"
          }
        }
      ]
    },
    {
      "cell_type": "markdown",
      "metadata": {
        "id": "Sq5HvS_bN24w"
      },
      "source": [
        "### Multi Variable Regression"
      ]
    },
    {
      "cell_type": "code",
      "metadata": {
        "id": "zRRw3XFPNc2B"
      },
      "source": [
        "import pandas as pd\n",
        "from sklearn.model_selection import train_test_split\n",
        "from sklearn.linear_model import LinearRegression\n",
        "from sklearn.metrics import mean_absolute_error, mean_squared_error, median_absolute_error"
      ],
      "execution_count": 208,
      "outputs": []
    },
    {
      "cell_type": "code",
      "metadata": {
        "id": "6U05hAZSQV0h",
        "outputId": "075c6cd3-6c58-4190-b866-60941ff335f2",
        "colab": {
          "base_uri": "https://localhost:8080/",
          "height": 0
        }
      },
      "source": [
        "# read data \n",
        "data = pd.read_csv(\"satf.csv\")\n",
        "print(data.head())\n",
        "print(\"data shape: \", data.shape)"
      ],
      "execution_count": 209,
      "outputs": [
        {
          "output_type": "stream",
          "text": [
            "   high_GPA  math_SAT  verb_SAT  comp_GPA  univ_GPA\n",
            "0      3.45       643       589      3.76      3.52\n",
            "1      2.78       558       512      2.87      2.91\n",
            "2      2.52       583       503      2.54      2.40\n",
            "3      3.67       685       602      3.83      3.47\n",
            "4      3.24       592       538      3.29      3.47\n",
            "data shape:  (105, 5)\n"
          ],
          "name": "stdout"
        }
      ]
    },
    {
      "cell_type": "code",
      "metadata": {
        "id": "w6JcKLZNQjsz",
        "outputId": "11f6d760-dcbe-493d-f9fd-8d8bf12b2bea",
        "colab": {
          "base_uri": "https://localhost:8080/",
          "height": 0
        }
      },
      "source": [
        "# sclising the data \n",
        "\n",
        "X = data.iloc[:,:-1]\n",
        "Y = data.iloc[:,-1]\n",
        "\n",
        "print(\"X data:  \\n\", X)\n",
        "print(\"Y data: \\n\", Y)\n"
      ],
      "execution_count": 210,
      "outputs": [
        {
          "output_type": "stream",
          "text": [
            "X data:  \n",
            "      high_GPA  math_SAT  verb_SAT  comp_GPA\n",
            "0        3.45       643       589      3.76\n",
            "1        2.78       558       512      2.87\n",
            "2        2.52       583       503      2.54\n",
            "3        3.67       685       602      3.83\n",
            "4        3.24       592       538      3.29\n",
            "..        ...       ...       ...       ...\n",
            "100      3.76       605       590      3.74\n",
            "101      3.49       692       683      3.27\n",
            "102      3.07       680       692      3.19\n",
            "103      2.19       617       503      2.98\n",
            "104      3.46       516       528      3.28\n",
            "\n",
            "[105 rows x 4 columns]\n",
            "Y data: \n",
            " 0      3.52\n",
            "1      2.91\n",
            "2      2.40\n",
            "3      3.47\n",
            "4      3.47\n",
            "       ... \n",
            "100    3.64\n",
            "101    3.42\n",
            "102    3.25\n",
            "103    2.76\n",
            "104    3.41\n",
            "Name: univ_GPA, Length: 105, dtype: float64\n"
          ],
          "name": "stdout"
        }
      ]
    },
    {
      "cell_type": "code",
      "metadata": {
        "id": "_Kkzwue-RO2g"
      },
      "source": [
        "# spliting the data \n",
        "\n",
        "x_train, x_test, y_train, y_test = train_test_split(X,Y, test_size=0.2, random_state=44, shuffle=True)"
      ],
      "execution_count": 211,
      "outputs": []
    },
    {
      "cell_type": "code",
      "metadata": {
        "id": "OWIy1rstR-Sl",
        "outputId": "d2dc3656-bf1e-4874-e851-968451ebd7ba",
        "colab": {
          "base_uri": "https://localhost:8080/",
          "height": 0
        }
      },
      "source": [
        "# Linear Regression Model \n",
        "\n",
        "LR = LinearRegression(fit_intercept=True, normalize=True, copy_X=True, n_jobs=-1)\n",
        "LR.fit(x_train, y_train)"
      ],
      "execution_count": 212,
      "outputs": [
        {
          "output_type": "execute_result",
          "data": {
            "text/plain": [
              "LinearRegression(copy_X=True, fit_intercept=True, n_jobs=-1, normalize=True)"
            ]
          },
          "metadata": {
            "tags": []
          },
          "execution_count": 212
        }
      ]
    },
    {
      "cell_type": "code",
      "metadata": {
        "id": "o3ye7kOEVXQm",
        "outputId": "c0078756-cd12-4637-dedf-f8c2b7aa55f9",
        "colab": {
          "base_uri": "https://localhost:8080/",
          "height": 0
        }
      },
      "source": [
        "# calculate score \n",
        "\n",
        "print(\"train score: \", LR.score(x_train, y_train))\n",
        "print(\"test score: \", LR.score(x_test, y_test))"
      ],
      "execution_count": 213,
      "outputs": [
        {
          "output_type": "stream",
          "text": [
            "train score:  0.8763196438122998\n",
            "test score:  0.9220928579483317\n"
          ],
          "name": "stdout"
        }
      ]
    },
    {
      "cell_type": "code",
      "metadata": {
        "id": "EHbG3oObVbUo",
        "outputId": "67702b99-7ded-46b6-829b-85ecf3fe3329",
        "colab": {
          "base_uri": "https://localhost:8080/",
          "height": 0
        }
      },
      "source": [
        "# prediction \n",
        "\n",
        "y_pred = LR.predict(x_test)\n",
        "\n",
        "print(\"y predict: \\n\", y_pred)"
      ],
      "execution_count": 214,
      "outputs": [
        {
          "output_type": "stream",
          "text": [
            "y predict: \n",
            " [3.24748793 2.3578805  3.48391633 2.28353477 3.20808412 2.441446\n",
            " 3.31053351 3.45034063 2.30003337 3.04247928 3.42330553 3.49573121\n",
            " 2.53572164 2.95841407 2.65733304 3.35538768 3.18310771 3.69435213\n",
            " 3.3207352  2.64123268 3.50147362]\n"
          ],
          "name": "stdout"
        }
      ]
    },
    {
      "cell_type": "code",
      "metadata": {
        "id": "sQg164_kWQ0-",
        "outputId": "c74dc618-8c8f-4d6b-ca07-07b97f179e25",
        "colab": {
          "base_uri": "https://localhost:8080/",
          "height": 0
        }
      },
      "source": [
        "# Mean Absolute Error Value \n",
        "\n",
        "MAEValue = mean_absolute_error(y_test, y_pred)\n",
        "print(\"Mean Absolute Error Value is: \", MAEValue)"
      ],
      "execution_count": 215,
      "outputs": [
        {
          "output_type": "stream",
          "text": [
            "Mean Absolute Error Value is:  0.10274186347275746\n"
          ],
          "name": "stdout"
        }
      ]
    },
    {
      "cell_type": "code",
      "metadata": {
        "id": "PLN7psWCWQ1Z",
        "outputId": "3deb6afb-c8ba-4369-dc73-1efb17662c03",
        "colab": {
          "base_uri": "https://localhost:8080/",
          "height": 0
        }
      },
      "source": [
        "# Mean Squared Error Value \n",
        "\n",
        "MSEValue = mean_squared_error(y_test, y_pred)\n",
        "print(\"Mean Squared Error Value is: \", MSEValue)\n"
      ],
      "execution_count": 216,
      "outputs": [
        {
          "output_type": "stream",
          "text": [
            "Mean Squared Error Value is:  0.01658344498565577\n"
          ],
          "name": "stdout"
        }
      ]
    },
    {
      "cell_type": "code",
      "metadata": {
        "id": "YFE2qGL_WQ1o",
        "outputId": "072ae126-dc0a-430e-ef6d-47fb9cf0e10d",
        "colab": {
          "base_uri": "https://localhost:8080/",
          "height": 0
        }
      },
      "source": [
        "# median Absolute Error Value\n",
        "\n",
        "MedianAEValue = median_absolute_error(y_test, y_pred)\n",
        "print(\"Median Absolute Error Value is: \", MedianAEValue)"
      ],
      "execution_count": 217,
      "outputs": [
        {
          "output_type": "stream",
          "text": [
            "Median Absolute Error Value is:  0.09003336709336285\n"
          ],
          "name": "stdout"
        }
      ]
    },
    {
      "cell_type": "markdown",
      "metadata": {
        "id": "mfrlCWJNaPAu"
      },
      "source": [
        "### Linear Regression with adding Polynomial equations to make regularization"
      ]
    },
    {
      "cell_type": "code",
      "metadata": {
        "id": "sr6bFcwzWU0I"
      },
      "source": [
        "# import libraries\n",
        "import pandas as pd\n",
        "from sklearn.preprocessing import PolynomialFeatures\n",
        "from sklearn.linear_model import LinearRegression\n",
        "from sklearn.metrics import mean_absolute_error, mean_squared_error, median_absolute_error"
      ],
      "execution_count": 218,
      "outputs": []
    },
    {
      "cell_type": "code",
      "metadata": {
        "id": "ismK52klayDq",
        "outputId": "f74d9957-6a58-4920-ae32-de93d77867f2",
        "colab": {
          "base_uri": "https://localhost:8080/",
          "height": 0
        }
      },
      "source": [
        "# read dataset\n",
        "\n",
        "data = pd.read_csv(\"satf.csv\")\n",
        "\n",
        "# sclicing data \n",
        "\n",
        "X = data.iloc[:,:1]\n",
        "y = data.iloc[:,:-1]\n",
        "\n",
        "print(X)\n",
        "print(Y)"
      ],
      "execution_count": 219,
      "outputs": [
        {
          "output_type": "stream",
          "text": [
            "     high_GPA\n",
            "0        3.45\n",
            "1        2.78\n",
            "2        2.52\n",
            "3        3.67\n",
            "4        3.24\n",
            "..        ...\n",
            "100      3.76\n",
            "101      3.49\n",
            "102      3.07\n",
            "103      2.19\n",
            "104      3.46\n",
            "\n",
            "[105 rows x 1 columns]\n",
            "0      3.52\n",
            "1      2.91\n",
            "2      2.40\n",
            "3      3.47\n",
            "4      3.47\n",
            "       ... \n",
            "100    3.64\n",
            "101    3.42\n",
            "102    3.25\n",
            "103    2.76\n",
            "104    3.41\n",
            "Name: univ_GPA, Length: 105, dtype: float64\n"
          ],
          "name": "stdout"
        }
      ]
    },
    {
      "cell_type": "code",
      "metadata": {
        "id": "9hWWtWtVdOW1",
        "outputId": "ff77ee26-c1ac-425d-d60a-209ea82b95e4",
        "colab": {
          "base_uri": "https://localhost:8080/",
          "height": 0
        }
      },
      "source": [
        "# spliting data \n",
        "\n",
        "x_train, x_test, y_train, y_test = train_test_split(X,Y,test_size=0.2,random_state=44,shuffle=True)\n",
        "\n",
        "print(\"x train shape: \", x_train.shape)\n",
        "print(\"x test shape : \", x_test.shape)\n",
        "print(\"y train shape: \", y_train.shape)\n",
        "print(\"y test shape: \", y_test.shape)"
      ],
      "execution_count": 220,
      "outputs": [
        {
          "output_type": "stream",
          "text": [
            "x train shape:  (84, 1)\n",
            "x test shape :  (21, 1)\n",
            "y train shape:  (84,)\n",
            "y test shape:  (21,)\n"
          ],
          "name": "stdout"
        }
      ]
    },
    {
      "cell_type": "code",
      "metadata": {
        "id": "AWypOX0kd5Bo",
        "outputId": "2124fb57-acbc-4033-cfc6-9e8db2f27cc8",
        "colab": {
          "base_uri": "https://localhost:8080/",
          "height": 0
        }
      },
      "source": [
        "# fiting polynomial regression to the dataset\n",
        "\n",
        "poly_reg = PolynomialFeatures(degree = 2)\n",
        "x_train2 = poly_reg.fit_transform(x_train)\n",
        "x_test2 = poly_reg.fit_transform(x_test)\n",
        "\n",
        "# no polynomial fot y values\n",
        "\n",
        "print(x_train2.shape)\n",
        "print(x_train2[0:5])\n",
        "print(\"----------------------------------\")\n",
        "print(x_test2.shape)\n",
        "print(x_test2[0:5])\n"
      ],
      "execution_count": 221,
      "outputs": [
        {
          "output_type": "stream",
          "text": [
            "(84, 3)\n",
            "[[ 1.      2.91    8.4681]\n",
            " [ 1.      4.     16.    ]\n",
            " [ 1.      2.1     4.41  ]\n",
            " [ 1.      3.17   10.0489]\n",
            " [ 1.      3.29   10.8241]]\n",
            "----------------------------------\n",
            "(21, 3)\n",
            "[[ 1.      3.02    9.1204]\n",
            " [ 1.      2.03    4.1209]\n",
            " [ 1.      2.09    4.3681]\n",
            " [ 1.      2.36    5.5696]\n",
            " [ 1.      3.19   10.1761]]\n"
          ],
          "name": "stdout"
        }
      ]
    },
    {
      "cell_type": "code",
      "metadata": {
        "id": "5Q9ixQJsfDC0",
        "outputId": "205b0aef-d2d4-4c8d-a518-7ce31896607b",
        "colab": {
          "base_uri": "https://localhost:8080/",
          "height": 0
        }
      },
      "source": [
        "# linear Regresstion Model \n",
        "LR = LinearRegression(fit_intercept=True,normalize=True,copy_X=True,n_jobs=-1)\n",
        "LR.fit(x_train2, y_train)"
      ],
      "execution_count": 222,
      "outputs": [
        {
          "output_type": "execute_result",
          "data": {
            "text/plain": [
              "LinearRegression(copy_X=True, fit_intercept=True, n_jobs=-1, normalize=True)"
            ]
          },
          "metadata": {
            "tags": []
          },
          "execution_count": 222
        }
      ]
    },
    {
      "cell_type": "code",
      "metadata": {
        "id": "C1-DyRlHiCN8",
        "outputId": "c30e9ea8-edf3-42ac-94f0-bd22145e3e16",
        "colab": {
          "base_uri": "https://localhost:8080/",
          "height": 0
        }
      },
      "source": [
        "# calculate score \n",
        "\n",
        "print(\"train score: \", LR.score(x_train2, y_train))\n",
        "print(\"test score: \", LR.score(x_test2, y_test))"
      ],
      "execution_count": 223,
      "outputs": [
        {
          "output_type": "stream",
          "text": [
            "train score:  0.6137315231345811\n",
            "test score:  0.5320735963936893\n"
          ],
          "name": "stdout"
        }
      ]
    },
    {
      "cell_type": "code",
      "metadata": {
        "id": "bCpdND93iCOb",
        "outputId": "9d6a5b63-5edd-4c9a-c88d-8652157548db",
        "colab": {
          "base_uri": "https://localhost:8080/",
          "height": 0
        }
      },
      "source": [
        "# prediction \n",
        "\n",
        "y_pred = LR.predict(x_test2)\n",
        "\n",
        "print(\"y predict: \\n\", y_pred)"
      ],
      "execution_count": 224,
      "outputs": [
        {
          "output_type": "stream",
          "text": [
            "y predict: \n",
            " [3.15633339 2.37329999 2.42617205 2.655449   3.27165506 2.75280784\n",
            " 3.21808481 3.50325835 2.51273932 2.86286047 3.47351344 3.41256783\n",
            " 2.8004391  2.89360531 2.87827171 3.44328326 2.90124299 3.532518\n",
            " 3.4614796  2.46969831 3.50325835]\n"
          ],
          "name": "stdout"
        }
      ]
    },
    {
      "cell_type": "code",
      "metadata": {
        "id": "XFYquKlTiCOq",
        "outputId": "f78963eb-359a-4955-d836-ea4826e252a4",
        "colab": {
          "base_uri": "https://localhost:8080/",
          "height": 0
        }
      },
      "source": [
        "# Mean Absolute Error Value \n",
        "\n",
        "MAEValue = mean_absolute_error(y_test, y_pred)\n",
        "print(\"Mean Absolute Error Value is: \", MAEValue)"
      ],
      "execution_count": 225,
      "outputs": [
        {
          "output_type": "stream",
          "text": [
            "Mean Absolute Error Value is:  0.22833717651648935\n"
          ],
          "name": "stdout"
        }
      ]
    },
    {
      "cell_type": "code",
      "metadata": {
        "id": "lWNrVG9wiCO2",
        "outputId": "15ac2839-a4fc-45c8-df26-f6492843da7b",
        "colab": {
          "base_uri": "https://localhost:8080/",
          "height": 0
        }
      },
      "source": [
        "# Mean Squared Error Value \n",
        "\n",
        "MSEValue = mean_squared_error(y_test, y_pred)\n",
        "print(\"Mean Squared Error Value is: \", MSEValue)\n"
      ],
      "execution_count": 226,
      "outputs": [
        {
          "output_type": "stream",
          "text": [
            "Mean Squared Error Value is:  0.09960359945426663\n"
          ],
          "name": "stdout"
        }
      ]
    },
    {
      "cell_type": "code",
      "metadata": {
        "id": "3uDgbyn3iCPB",
        "outputId": "62702ec8-056c-4556-b884-e8a493b89a0b",
        "colab": {
          "base_uri": "https://localhost:8080/",
          "height": 0
        }
      },
      "source": [
        "# median Absolute Error Value\n",
        "\n",
        "MedianAEValue = median_absolute_error(y_test, y_pred)\n",
        "print(\"Median Absolute Error Value is: \", MedianAEValue)"
      ],
      "execution_count": 227,
      "outputs": [
        {
          "output_type": "stream",
          "text": [
            "Median Absolute Error Value is:  0.17875700828660301\n"
          ],
          "name": "stdout"
        }
      ]
    },
    {
      "cell_type": "code",
      "metadata": {
        "id": "j29hcMAdhkpR"
      },
      "source": [
        ""
      ],
      "execution_count": 227,
      "outputs": []
    },
    {
      "cell_type": "markdown",
      "metadata": {
        "id": "Juc3oJ41xfbo"
      },
      "source": [
        "## Ridge Regresstion\n",
        "\n",
        "for doing linear regresstion with regularization"
      ]
    },
    {
      "cell_type": "markdown",
      "metadata": {
        "id": "ZMJbqRHhyLIU"
      },
      "source": [
        "![mat.png](data:image/png;base64,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)"
      ]
    },
    {
      "cell_type": "markdown",
      "metadata": {
        "id": "sF6ORSaAzk2d"
      },
      "source": [
        "alpha: coefficient of regularization\n",
        "\n",
        "W: thetas of X values \n",
        "\n",
        "x: features\n",
        "\n",
        "y: real y \n",
        "\n",
        "y`: predict y "
      ]
    },
    {
      "cell_type": "code",
      "metadata": {
        "id": "lUqBFg7UxqIF"
      },
      "source": [
        "#Import Libraries\n",
        "from sklearn.datasets import load_boston\n",
        "from sklearn.model_selection import train_test_split\n",
        "from sklearn.linear_model import Ridge\n",
        "from sklearn.metrics import mean_absolute_error \n",
        "from sklearn.metrics import mean_squared_error \n",
        "from sklearn.metrics import median_absolute_error"
      ],
      "execution_count": 228,
      "outputs": []
    },
    {
      "cell_type": "code",
      "metadata": {
        "id": "YcxeF3Qk0vpZ",
        "outputId": "1b5fff0f-bab3-4166-aa28-e5c1680f5f63",
        "colab": {
          "base_uri": "https://localhost:8080/",
          "height": 52
        }
      },
      "source": [
        "# load boston data\n",
        "BostonData = load_boston()\n",
        "\n",
        "# x Data\n",
        "x = BostonData.data\n",
        "print(x.shape)\n",
        "\n",
        "# y Data\n",
        "y = BostonData.target\n",
        "print(y.shape)"
      ],
      "execution_count": 229,
      "outputs": [
        {
          "output_type": "stream",
          "text": [
            "(506, 13)\n",
            "(506,)\n"
          ],
          "name": "stdout"
        }
      ]
    },
    {
      "cell_type": "code",
      "metadata": {
        "id": "aIxwZspo0z5-"
      },
      "source": [
        "# Splitting data\n",
        "\n",
        "x_train, x_test, y_train, y_test = train_test_split(x, y, test_size=0.33, random_state=44, shuffle =True)"
      ],
      "execution_count": 230,
      "outputs": []
    },
    {
      "cell_type": "code",
      "metadata": {
        "id": "QQIy5p0K09eG",
        "outputId": "db1191d0-60e8-4196-83a4-8e9f5c412bdb",
        "colab": {
          "base_uri": "https://localhost:8080/",
          "height": 52
        }
      },
      "source": [
        "# applying ridge model \n",
        "\n",
        "Ridge = Ridge(alpha=1, random_state=44)\n",
        "Ridge.fit(x_train, y_train)"
      ],
      "execution_count": 231,
      "outputs": [
        {
          "output_type": "execute_result",
          "data": {
            "text/plain": [
              "Ridge(alpha=1, copy_X=True, fit_intercept=True, max_iter=None, normalize=False,\n",
              "      random_state=44, solver='auto', tol=0.001)"
            ]
          },
          "metadata": {
            "tags": []
          },
          "execution_count": 231
        }
      ]
    },
    {
      "cell_type": "code",
      "metadata": {
        "id": "946dMSyU11wa",
        "outputId": "dfcb9b47-a33c-4c46-f798-4cf5bf73989e",
        "colab": {
          "base_uri": "https://localhost:8080/",
          "height": 121
        }
      },
      "source": [
        "# Calculating Details\n",
        "print('Ridge Regression Train Score is : ' , Ridge.score(X_train, y_train))\n",
        "print('Ridge Regression Test Score is : ' , Ridge.score(X_test, y_test))\n",
        "print('Ridge Regression Coef is : ' , Ridge.coef_)\n",
        "print('Ridge Regression intercept is : ' , Ridge.intercept_)"
      ],
      "execution_count": 232,
      "outputs": [
        {
          "output_type": "stream",
          "text": [
            "Ridge Regression Train Score is :  0.7359190514377463\n",
            "Ridge Regression Test Score is :  0.716858250738577\n",
            "Ridge Regression Coef is :  [-0.14428942  0.05972008 -0.09000631  1.56026811 -9.06085979  3.1984024\n",
            " -0.00931524 -1.65498927  0.27826889 -0.01339655 -0.77566368  0.01074529\n",
            " -0.48600773]\n",
            "Ridge Regression intercept is :  34.337442930902874\n"
          ],
          "name": "stdout"
        }
      ]
    },
    {
      "cell_type": "code",
      "metadata": {
        "id": "ksdPcajI2GG8",
        "outputId": "4c29a66f-bae1-42a1-f96c-9145d2236930",
        "colab": {
          "base_uri": "https://localhost:8080/",
          "height": 69
        }
      },
      "source": [
        "# Calculating Prediction\n",
        "y_pred = Ridge.predict(X_test)\n",
        "print('Predicted Value for Ridge Regression is: \\n' , y_pred[:10])"
      ],
      "execution_count": 233,
      "outputs": [
        {
          "output_type": "stream",
          "text": [
            "Predicted Value for Ridge Regression is: \n",
            " [18.05200951 23.55480134 21.11622888 34.81904322 12.37543491 32.16690905\n",
            " 19.91533263 24.57458378 30.49754442 22.87886074]\n"
          ],
          "name": "stdout"
        }
      ]
    },
    {
      "cell_type": "code",
      "metadata": {
        "id": "CPrr_1Rm2Rus",
        "outputId": "5d832093-ed72-4c2e-e116-dfc3e1b20230",
        "colab": {
          "base_uri": "https://localhost:8080/",
          "height": 34
        }
      },
      "source": [
        "# Calculating Mean Absolute Error\n",
        "MAEValue = mean_absolute_error(y_test, y_pred, multioutput='uniform_average') # it can be raw_values\n",
        "print('Mean Absolute Error Value is : ', MAEValue)\n"
      ],
      "execution_count": 234,
      "outputs": [
        {
          "output_type": "stream",
          "text": [
            "Mean Absolute Error Value is :  3.610358952551218\n"
          ],
          "name": "stdout"
        }
      ]
    },
    {
      "cell_type": "code",
      "metadata": {
        "id": "By-2N_yC2YLl",
        "outputId": "b0985e2a-78a9-4ae7-d9be-3b52ecb39ba5",
        "colab": {
          "base_uri": "https://localhost:8080/",
          "height": 34
        }
      },
      "source": [
        "# Calculating Mean Squared Error\n",
        "MSEValue = mean_squared_error(y_test, y_pred, multioutput='uniform_average') # it can be raw_values\n",
        "print('Mean Squared Error Value is : ', MSEValue)"
      ],
      "execution_count": 235,
      "outputs": [
        {
          "output_type": "stream",
          "text": [
            "Mean Squared Error Value is :  27.849211482758893\n"
          ],
          "name": "stdout"
        }
      ]
    },
    {
      "cell_type": "code",
      "metadata": {
        "id": "v5f8U-Jx2abw",
        "outputId": "fb49ff55-ac0b-4302-901a-d7dd1d842dc4",
        "colab": {
          "base_uri": "https://localhost:8080/",
          "height": 34
        }
      },
      "source": [
        "#C alculating Median Squared Error\n",
        "MdSEValue = median_absolute_error(y_test, y_pred)\n",
        "print('Median Squared Error Value is : ', MdSEValue )\n"
      ],
      "execution_count": 236,
      "outputs": [
        {
          "output_type": "stream",
          "text": [
            "Median Squared Error Value is :  2.1934805378612285\n"
          ],
          "name": "stdout"
        }
      ]
    },
    {
      "cell_type": "markdown",
      "metadata": {
        "id": "uX3SCeCq_zAx"
      },
      "source": [
        "## Lasso Regression \n",
        "\n",
        "least absolute shrinkage and selection operator\n",
        "\n",
        "doing regression with regularization \n"
      ]
    },
    {
      "cell_type": "markdown",
      "metadata": {
        "id": "2KQx_WeUAEl4"
      },
      "source": [
        "![lasso.png](data:image/png;base64,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)"
      ]
    },
    {
      "cell_type": "code",
      "metadata": {
        "id": "J7-0NL-8AECS"
      },
      "source": [
        "# Import Libraries\n",
        "from sklearn.datasets import load_boston\n",
        "from sklearn.model_selection import train_test_split\n",
        "from sklearn.linear_model import Lasso\n",
        "from sklearn.metrics import mean_absolute_error \n",
        "from sklearn.metrics import mean_squared_error \n",
        "from sklearn.metrics import median_absolute_error"
      ],
      "execution_count": 237,
      "outputs": []
    },
    {
      "cell_type": "code",
      "metadata": {
        "id": "-HpR-fOoAMy9"
      },
      "source": [
        "# load boston data\n",
        "\n",
        "BostonData = load_boston()\n",
        "\n",
        "# x Data\n",
        "x = BostonData.data\n",
        "\n",
        "# y Data\n",
        "y = BostonData.target\n"
      ],
      "execution_count": 238,
      "outputs": []
    },
    {
      "cell_type": "code",
      "metadata": {
        "id": "JX_LeKZOARQr"
      },
      "source": [
        "# Splitting data\n",
        "\n",
        "x_train, x_test, y_train, y_test = train_test_split(x, y, test_size=0.33, random_state=44, shuffle =True)"
      ],
      "execution_count": 239,
      "outputs": []
    },
    {
      "cell_type": "code",
      "metadata": {
        "id": "mm8pKBiOAV9z",
        "outputId": "2d7773db-0aac-46b2-deeb-502ba8ca0009",
        "colab": {
          "base_uri": "https://localhost:8080/",
          "height": 69
        }
      },
      "source": [
        "# Applying Lasso Regression Model \n",
        "\n",
        "Lasso = Lasso(alpha=1.0,random_state=33,normalize=False)\n",
        "Lasso.fit(x_train, y_train)"
      ],
      "execution_count": 240,
      "outputs": [
        {
          "output_type": "execute_result",
          "data": {
            "text/plain": [
              "Lasso(alpha=1.0, copy_X=True, fit_intercept=True, max_iter=1000,\n",
              "      normalize=False, positive=False, precompute=False, random_state=33,\n",
              "      selection='cyclic', tol=0.0001, warm_start=False)"
            ]
          },
          "metadata": {
            "tags": []
          },
          "execution_count": 240
        }
      ]
    },
    {
      "cell_type": "code",
      "metadata": {
        "id": "-p6WFWxXAkmt",
        "outputId": "34e66d80-ef72-4611-f4a4-e95695851b3a",
        "colab": {
          "base_uri": "https://localhost:8080/",
          "height": 121
        }
      },
      "source": [
        "# Calculating Details\n",
        "\n",
        "print('Lasso Regression Train Score is : ' , Lasso.score(X_train, y_train))\n",
        "print('Lasso Regression Test Score is : ' , Lasso.score(X_test, y_test))\n",
        "print('Lasso Regression Coef is : ' , Lasso.coef_)\n",
        "print('Lasso Regression intercept is : ' , Lasso.intercept_)"
      ],
      "execution_count": 241,
      "outputs": [
        {
          "output_type": "stream",
          "text": [
            "Lasso Regression Train Score is :  0.6771305278565054\n",
            "Lasso Regression Test Score is :  0.6366169912303186\n",
            "Lasso Regression Coef is :  [-0.06749947  0.05901876 -0.0676006   0.         -0.          0.19519823\n",
            "  0.01995674 -0.95608401  0.23860719 -0.015207   -0.63201316  0.00811458\n",
            " -0.72751625]\n",
            "Lasso Regression intercept is :  45.65075649115697\n"
          ],
          "name": "stdout"
        }
      ]
    },
    {
      "cell_type": "code",
      "metadata": {
        "id": "rk7da2DAAvVK",
        "outputId": "f478973d-0c2a-490c-920d-3bc46dc18674",
        "colab": {
          "base_uri": "https://localhost:8080/",
          "height": 69
        }
      },
      "source": [
        "# Calculating Prediction\n",
        "y_pred = Lasso.predict(X_test)\n",
        "print('Predicted Value for Lasso Regression is : \\n' , y_pred[:10])"
      ],
      "execution_count": 242,
      "outputs": [
        {
          "output_type": "stream",
          "text": [
            "Predicted Value for Lasso Regression is : \n",
            " [18.48928473 21.78993926 20.91907098 32.27253839 15.30637937 30.14764024\n",
            " 20.01688944 25.04952377 29.4784669  24.92215925]\n"
          ],
          "name": "stdout"
        }
      ]
    },
    {
      "cell_type": "code",
      "metadata": {
        "id": "6qXLCaZZA0qg",
        "outputId": "5e356b8e-d5fd-4ffa-ab24-7e8e64ddcec6",
        "colab": {
          "base_uri": "https://localhost:8080/",
          "height": 34
        }
      },
      "source": [
        "# Calculating Mean Absolute Error\n",
        "MAEValue = mean_absolute_error(y_test, y_pred, multioutput='uniform_average') # it can be raw_values\n",
        "print('Mean Absolute Error Value is : ', MAEValue)"
      ],
      "execution_count": 243,
      "outputs": [
        {
          "output_type": "stream",
          "text": [
            "Mean Absolute Error Value is :  4.024327291929858\n"
          ],
          "name": "stdout"
        }
      ]
    },
    {
      "cell_type": "code",
      "metadata": {
        "id": "nCdm1Bp6A9Q5",
        "outputId": "99c1b9e9-ca30-4924-f23c-dacf84a18017",
        "colab": {
          "base_uri": "https://localhost:8080/",
          "height": 34
        }
      },
      "source": [
        "# Calculating Mean Squared Error\n",
        "MSEValue = mean_squared_error(y_test, y_pred, multioutput='uniform_average') # it can be raw_values\n",
        "print('Mean Squared Error Value is : ', MSEValue)"
      ],
      "execution_count": 244,
      "outputs": [
        {
          "output_type": "stream",
          "text": [
            "Mean Squared Error Value is :  35.74156862019108\n"
          ],
          "name": "stdout"
        }
      ]
    },
    {
      "cell_type": "code",
      "metadata": {
        "id": "Pd1wiIySBAIP",
        "outputId": "74673105-d034-4a22-ddc7-23894cd36745",
        "colab": {
          "base_uri": "https://localhost:8080/",
          "height": 34
        }
      },
      "source": [
        "# Calculating Median Squared Error\n",
        "MdSEValue = median_absolute_error(y_test, y_pred)\n",
        "print('Median Squared Error Value is : ', MdSEValue )"
      ],
      "execution_count": 245,
      "outputs": [
        {
          "output_type": "stream",
          "text": [
            "Median Squared Error Value is :  2.500296141202565\n"
          ],
          "name": "stdout"
        }
      ]
    },
    {
      "cell_type": "markdown",
      "metadata": {
        "id": "teUhsZU9BE5T"
      },
      "source": [
        "## SGD Regressor\n",
        "\n",
        "doing regularization using Gradiant Descent\n",
        "\n",
        "parameters:\n",
        "\n",
        "1. fit_intercept \tبقيمة ترو او فولس , حسب هل نريد حساب قيمة التقاطع مع محور اكس ام لا\n",
        "2.  loss\t\t\tنوع معادلة الكوست فنشكن و تكون :   squared_loss, huber, epsilon_insensitive,  squared_epsilon_insensitive\n",
        "3. penalty\t\tنوع التنعيم و يكون :   none,  l2 , l1 ,elasticnet\n",
        "4. max_iter\t\tعدد المحاولات الاقصي\n",
        "5. learning_rate\tمعامل التعلم\n",
        "\n",
        "attributes:\n",
        "\n",
        "1. coef_\t\t\tمعاملات المعادلة التي تم عملها عبر الفيت\n",
        "2. intercept_\t\tالتقاطع مع محور اكس\n",
        "3. n_iter_\t\tعدد المحاولات\n"
      ]
    },
    {
      "cell_type": "code",
      "metadata": {
        "id": "9Lw1_L2pBDEk"
      },
      "source": [
        "# Import Libraries\n",
        "from sklearn.datasets import load_boston\n",
        "from sklearn.model_selection import train_test_split\n",
        "from sklearn.linear_model import SGDRegressor\n",
        "from sklearn.metrics import mean_absolute_error \n",
        "from sklearn.metrics import mean_squared_error \n",
        "from sklearn.metrics import median_absolute_error"
      ],
      "execution_count": 246,
      "outputs": []
    },
    {
      "cell_type": "code",
      "metadata": {
        "id": "Ja0-nuvDCWG8"
      },
      "source": [
        "# load boston data\n",
        "\n",
        "BostonData = load_boston()\n",
        "\n",
        "# x Data\n",
        "x = BostonData.data\n",
        "# y Data\n",
        "y = BostonData.target"
      ],
      "execution_count": 247,
      "outputs": []
    },
    {
      "cell_type": "code",
      "metadata": {
        "id": "2KiVr-0pCatn"
      },
      "source": [
        "# Splitting data\n",
        "\n",
        "x_train, x_test, y_train, y_test = train_test_split(x, y, test_size=0.33, random_state=44, shuffle =True)"
      ],
      "execution_count": 248,
      "outputs": []
    },
    {
      "cell_type": "code",
      "metadata": {
        "id": "icXeI-hUCfNX",
        "outputId": "76e1a1aa-40f0-41ec-93bd-c630a9c7e49a",
        "colab": {
          "base_uri": "https://localhost:8080/",
          "height": 121
        }
      },
      "source": [
        "# Applying SGDRegressor Model \n",
        "\n",
        "SGDRegressionModel = SGDRegressor(alpha=0.1,random_state=33,penalty='l2',loss = 'huber')\n",
        "SGDRegressionModel.fit(x_train, y_train)"
      ],
      "execution_count": 249,
      "outputs": [
        {
          "output_type": "execute_result",
          "data": {
            "text/plain": [
              "SGDRegressor(alpha=0.1, average=False, early_stopping=False, epsilon=0.1,\n",
              "             eta0=0.01, fit_intercept=True, l1_ratio=0.15,\n",
              "             learning_rate='invscaling', loss='huber', max_iter=1000,\n",
              "             n_iter_no_change=5, penalty='l2', power_t=0.25, random_state=33,\n",
              "             shuffle=True, tol=0.001, validation_fraction=0.1, verbose=0,\n",
              "             warm_start=False)"
            ]
          },
          "metadata": {
            "tags": []
          },
          "execution_count": 249
        }
      ]
    },
    {
      "cell_type": "code",
      "metadata": {
        "id": "yycRqKNrCmFE",
        "outputId": "60ad900a-734d-4079-a40d-36f761eddb66",
        "colab": {
          "base_uri": "https://localhost:8080/",
          "height": 121
        }
      },
      "source": [
        "# Calculating Details\n",
        "print('SGD Regression Train Score is : ' , SGDRegressionModel.score(x_train, y_train))\n",
        "print('SGD Regression Test Score is : ' , SGDRegressionModel.score(x_test, y_test))\n",
        "print('SGD Regression Coef is : ' , SGDRegressionModel.coef_)\n",
        "print('SGD Regression intercept is : ' , SGDRegressionModel.intercept_)"
      ],
      "execution_count": 250,
      "outputs": [
        {
          "output_type": "stream",
          "text": [
            "SGD Regression Train Score is :  -7.269389756693004\n",
            "SGD Regression Test Score is :  -6.2406789591665355\n",
            "SGD Regression Coef is :  [-0.05903623  0.0891895  -0.11664204  0.01080867  0.00518693  0.15621482\n",
            "  0.0738364  -0.00635941  0.04242994 -0.01607942  0.06959178  0.00448811\n",
            " -0.36108034]\n",
            "SGD Regression intercept is :  [0.02997783]\n"
          ],
          "name": "stdout"
        }
      ]
    },
    {
      "cell_type": "code",
      "metadata": {
        "id": "1ZSpJ1boCsQ3",
        "outputId": "0e5a9aff-c7d5-4218-f559-5a7b302c4cba",
        "colab": {
          "base_uri": "https://localhost:8080/",
          "height": 69
        }
      },
      "source": [
        "#Calculating Prediction\n",
        "y_pred = SGDRegressionModel.predict(X_test)\n",
        "print('Predicted Value for SGD Regression is: \\n' , y_pred[:10])"
      ],
      "execution_count": 251,
      "outputs": [
        {
          "output_type": "stream",
          "text": [
            "Predicted Value for SGD Regression is: \n",
            " [ -2.40216518  -1.51963269  -7.86322899   4.13574344 -10.97645812\n",
            "   2.50105521  -8.03762967  -0.677615     2.69941969  -4.2809068 ]\n"
          ],
          "name": "stdout"
        }
      ]
    },
    {
      "cell_type": "code",
      "metadata": {
        "id": "W8tA7gBrCumg",
        "outputId": "506012f9-6040-4fa3-a948-1b7c3c9506d4",
        "colab": {
          "base_uri": "https://localhost:8080/",
          "height": 34
        }
      },
      "source": [
        "# Calculating Mean Absolute Error\n",
        "MAEValue = mean_absolute_error(y_test, y_pred, multioutput='uniform_average') # it can be raw_values\n",
        "print('Mean Absolute Error Value is : ', MAEValue)"
      ],
      "execution_count": 252,
      "outputs": [
        {
          "output_type": "stream",
          "text": [
            "Mean Absolute Error Value is :  25.620841981346327\n"
          ],
          "name": "stdout"
        }
      ]
    },
    {
      "cell_type": "code",
      "metadata": {
        "id": "rSN1dWIGC_A-",
        "outputId": "a1ec6123-f697-46dc-f139-137173d263e7",
        "colab": {
          "base_uri": "https://localhost:8080/",
          "height": 34
        }
      },
      "source": [
        "# Calculating Mean Squared Error\n",
        "MSEValue = mean_squared_error(y_test, y_pred, multioutput='uniform_average') # it can be raw_values\n",
        "print('Mean Squared Error Value is : ', MSEValue)"
      ],
      "execution_count": 253,
      "outputs": [
        {
          "output_type": "stream",
          "text": [
            "Mean Squared Error Value is :  712.1775581968727\n"
          ],
          "name": "stdout"
        }
      ]
    },
    {
      "cell_type": "code",
      "metadata": {
        "id": "NCLl8f5bDBdr",
        "outputId": "1b568c0b-0e6a-4f69-fbeb-7f6f8f29d324",
        "colab": {
          "base_uri": "https://localhost:8080/",
          "height": 34
        }
      },
      "source": [
        "# Calculating Median Squared Error\n",
        "MdSEValue = median_absolute_error(y_test, y_pred)\n",
        "print('Median Squared Error Value is : ', MdSEValue )"
      ],
      "execution_count": 254,
      "outputs": [
        {
          "output_type": "stream",
          "text": [
            "Median Squared Error Value is :  23.608810772283935\n"
          ],
          "name": "stdout"
        }
      ]
    }
  ]
}