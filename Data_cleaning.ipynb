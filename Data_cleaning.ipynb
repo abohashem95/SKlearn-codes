{
  "nbformat": 4,
  "nbformat_minor": 0,
  "metadata": {
    "colab": {
      "name": "Data cleaning",
      "provenance": [],
      "collapsed_sections": [
        "j8Wo74ruaof3"
      ],
      "authorship_tag": "ABX9TyMOadjKApQyCbk4fLiRly7t",
      "include_colab_link": true
    },
    "kernelspec": {
      "name": "python3",
      "display_name": "Python 3"
    }
  },
  "cells": [
    {
      "cell_type": "markdown",
      "metadata": {
        "id": "view-in-github",
        "colab_type": "text"
      },
      "source": [
        "<a href=\"https://colab.research.google.com/github/abohashem95/SKlearn-codes/blob/main/Data_cleaning.ipynb\" target=\"_parent\"><img src=\"https://colab.research.google.com/assets/colab-badge.svg\" alt=\"Open In Colab\"/></a>"
      ]
    },
    {
      "cell_type": "markdown",
      "metadata": {
        "id": "R1519d1kaU2E"
      },
      "source": [
        "## introduction for SimpleImputer"
      ]
    },
    {
      "cell_type": "code",
      "metadata": {
        "id": "Niy-mcfiS3v5"
      },
      "source": [
        "#import SimpleImputer library and numpy library\n",
        "from sklearn.impute import SimpleImputer as si\n",
        "import numpy as np"
      ],
      "execution_count": null,
      "outputs": []
    },
    {
      "cell_type": "code",
      "metadata": {
        "id": "vrJY1Qc8W2Tz"
      },
      "source": [
        "\n",
        "X = [[1,2,np.nan,4,5,6,np.nan,8,9,10],[11,12,np.nan,14,15,np.nan,17,18,19,20]]\n",
        "# Cleaning data\n",
        "'''\n",
        "impute.SimpleImputer(missing_values=nan, strategy='mean’, fill_value=None, verbose=0, copy=True)\n",
        "'''\n",
        "#make object\n",
        "ImputedModule = si(missing_values= np.nan,strategy=\"mean\")\n",
        "\n",
        "#fit and transform\n",
        "imputedX = ImputedModule.fit(X)\n",
        "X = ImputedModule.transform(X)\n"
      ],
      "execution_count": null,
      "outputs": []
    },
    {
      "cell_type": "code",
      "metadata": {
        "id": "jNfgtgSvZK9a",
        "outputId": "f3c2472b-05db-4047-89ad-6617c3a7f8df",
        "colab": {
          "base_uri": "https://localhost:8080/",
          "height": 52
        }
      },
      "source": [
        "print(X)"
      ],
      "execution_count": null,
      "outputs": [
        {
          "output_type": "stream",
          "text": [
            "[[ 1.  2.  4.  5.  6. 17.  8.  9. 10.]\n",
            " [11. 12. 14. 15.  6. 17. 18. 19. 20.]]\n"
          ],
          "name": "stdout"
        }
      ]
    },
    {
      "cell_type": "markdown",
      "metadata": {
        "id": "j8Wo74ruaof3"
      },
      "source": [
        "## try simpleimputer in breast cancer\n",
        "\n",
        "note: it doesn't make seanse because it doesn't contain Nan values"
      ]
    },
    {
      "cell_type": "code",
      "metadata": {
        "id": "fISdd4QbaCo6",
        "outputId": "709eb2ad-5fac-4edf-fa92-12bece569051",
        "colab": {
          "base_uri": "https://localhost:8080/",
          "height": 937
        }
      },
      "source": [
        "# Import Libraries\n",
        "from sklearn.datasets import load_breast_cancer\n",
        "from sklearn.impute import SimpleImputer\n",
        "import numpy as np\n",
        "#----------------------------------------------------\n",
        "\n",
        "#load breast cancer data\n",
        "BreastData = load_breast_cancer()\n",
        "\n",
        "#X Data\n",
        "X = BreastData.data\n",
        "\n",
        "#y Data\n",
        "y = BreastData.target\n",
        "#----------------------------------------------------\n",
        "# Cleaning data\n",
        "\n",
        "'''\n",
        "impute.SimpleImputer(missing_values=nan, strategy='mean’, fill_value=None, verbose=0, copy=True)\n",
        "'''\n",
        "ImputedModule = SimpleImputer(missing_values = np.nan, strategy ='mean')\n",
        "ImputedX = ImputedModule.fit(X)\n",
        "X = ImputedX.transform(X)\n",
        "\n",
        "\n",
        "#X Data\n",
        "print('X Data is \\n' , X[:10])\n",
        "\n",
        "#y Data\n",
        "print('y Data is \\n' , y[:10])"
      ],
      "execution_count": null,
      "outputs": [
        {
          "output_type": "stream",
          "text": [
            "X Data is \n",
            " [[1.799e+01 1.038e+01 1.228e+02 1.001e+03 1.184e-01 2.776e-01 3.001e-01\n",
            "  1.471e-01 2.419e-01 7.871e-02 1.095e+00 9.053e-01 8.589e+00 1.534e+02\n",
            "  6.399e-03 4.904e-02 5.373e-02 1.587e-02 3.003e-02 6.193e-03 2.538e+01\n",
            "  1.733e+01 1.846e+02 2.019e+03 1.622e-01 6.656e-01 7.119e-01 2.654e-01\n",
            "  4.601e-01 1.189e-01]\n",
            " [2.057e+01 1.777e+01 1.329e+02 1.326e+03 8.474e-02 7.864e-02 8.690e-02\n",
            "  7.017e-02 1.812e-01 5.667e-02 5.435e-01 7.339e-01 3.398e+00 7.408e+01\n",
            "  5.225e-03 1.308e-02 1.860e-02 1.340e-02 1.389e-02 3.532e-03 2.499e+01\n",
            "  2.341e+01 1.588e+02 1.956e+03 1.238e-01 1.866e-01 2.416e-01 1.860e-01\n",
            "  2.750e-01 8.902e-02]\n",
            " [1.969e+01 2.125e+01 1.300e+02 1.203e+03 1.096e-01 1.599e-01 1.974e-01\n",
            "  1.279e-01 2.069e-01 5.999e-02 7.456e-01 7.869e-01 4.585e+00 9.403e+01\n",
            "  6.150e-03 4.006e-02 3.832e-02 2.058e-02 2.250e-02 4.571e-03 2.357e+01\n",
            "  2.553e+01 1.525e+02 1.709e+03 1.444e-01 4.245e-01 4.504e-01 2.430e-01\n",
            "  3.613e-01 8.758e-02]\n",
            " [1.142e+01 2.038e+01 7.758e+01 3.861e+02 1.425e-01 2.839e-01 2.414e-01\n",
            "  1.052e-01 2.597e-01 9.744e-02 4.956e-01 1.156e+00 3.445e+00 2.723e+01\n",
            "  9.110e-03 7.458e-02 5.661e-02 1.867e-02 5.963e-02 9.208e-03 1.491e+01\n",
            "  2.650e+01 9.887e+01 5.677e+02 2.098e-01 8.663e-01 6.869e-01 2.575e-01\n",
            "  6.638e-01 1.730e-01]\n",
            " [2.029e+01 1.434e+01 1.351e+02 1.297e+03 1.003e-01 1.328e-01 1.980e-01\n",
            "  1.043e-01 1.809e-01 5.883e-02 7.572e-01 7.813e-01 5.438e+00 9.444e+01\n",
            "  1.149e-02 2.461e-02 5.688e-02 1.885e-02 1.756e-02 5.115e-03 2.254e+01\n",
            "  1.667e+01 1.522e+02 1.575e+03 1.374e-01 2.050e-01 4.000e-01 1.625e-01\n",
            "  2.364e-01 7.678e-02]\n",
            " [1.245e+01 1.570e+01 8.257e+01 4.771e+02 1.278e-01 1.700e-01 1.578e-01\n",
            "  8.089e-02 2.087e-01 7.613e-02 3.345e-01 8.902e-01 2.217e+00 2.719e+01\n",
            "  7.510e-03 3.345e-02 3.672e-02 1.137e-02 2.165e-02 5.082e-03 1.547e+01\n",
            "  2.375e+01 1.034e+02 7.416e+02 1.791e-01 5.249e-01 5.355e-01 1.741e-01\n",
            "  3.985e-01 1.244e-01]\n",
            " [1.825e+01 1.998e+01 1.196e+02 1.040e+03 9.463e-02 1.090e-01 1.127e-01\n",
            "  7.400e-02 1.794e-01 5.742e-02 4.467e-01 7.732e-01 3.180e+00 5.391e+01\n",
            "  4.314e-03 1.382e-02 2.254e-02 1.039e-02 1.369e-02 2.179e-03 2.288e+01\n",
            "  2.766e+01 1.532e+02 1.606e+03 1.442e-01 2.576e-01 3.784e-01 1.932e-01\n",
            "  3.063e-01 8.368e-02]\n",
            " [1.371e+01 2.083e+01 9.020e+01 5.779e+02 1.189e-01 1.645e-01 9.366e-02\n",
            "  5.985e-02 2.196e-01 7.451e-02 5.835e-01 1.377e+00 3.856e+00 5.096e+01\n",
            "  8.805e-03 3.029e-02 2.488e-02 1.448e-02 1.486e-02 5.412e-03 1.706e+01\n",
            "  2.814e+01 1.106e+02 8.970e+02 1.654e-01 3.682e-01 2.678e-01 1.556e-01\n",
            "  3.196e-01 1.151e-01]\n",
            " [1.300e+01 2.182e+01 8.750e+01 5.198e+02 1.273e-01 1.932e-01 1.859e-01\n",
            "  9.353e-02 2.350e-01 7.389e-02 3.063e-01 1.002e+00 2.406e+00 2.432e+01\n",
            "  5.731e-03 3.502e-02 3.553e-02 1.226e-02 2.143e-02 3.749e-03 1.549e+01\n",
            "  3.073e+01 1.062e+02 7.393e+02 1.703e-01 5.401e-01 5.390e-01 2.060e-01\n",
            "  4.378e-01 1.072e-01]\n",
            " [1.246e+01 2.404e+01 8.397e+01 4.759e+02 1.186e-01 2.396e-01 2.273e-01\n",
            "  8.543e-02 2.030e-01 8.243e-02 2.976e-01 1.599e+00 2.039e+00 2.394e+01\n",
            "  7.149e-03 7.217e-02 7.743e-02 1.432e-02 1.789e-02 1.008e-02 1.509e+01\n",
            "  4.068e+01 9.765e+01 7.114e+02 1.853e-01 1.058e+00 1.105e+00 2.210e-01\n",
            "  4.366e-01 2.075e-01]]\n",
            "y Data is \n",
            " [0 0 0 0 0 0 0 0 0 0]\n"
          ],
          "name": "stdout"
        }
      ]
    },
    {
      "cell_type": "code",
      "metadata": {
        "id": "A6dvJJ1ea-gX"
      },
      "source": [
        ""
      ],
      "execution_count": null,
      "outputs": []
    },
    {
      "cell_type": "markdown",
      "metadata": {
        "id": "cV8FkhyZbCRr"
      },
      "source": [
        "# try simpleImputer with small data"
      ]
    },
    {
      "cell_type": "code",
      "metadata": {
        "id": "eTeq-GiGclW4",
        "outputId": "be34623c-0cee-43a6-c56b-c2cea12a185f",
        "colab": {
          "base_uri": "https://localhost:8080/",
          "height": 121
        }
      },
      "source": [
        "# example 1  using mean\n",
        "\n",
        "import numpy as np\n",
        "\n",
        "from sklearn.impute import SimpleImputer\n",
        "\n",
        "data = [[1,2,np.nan],\n",
        "        [3,np.nan,1],\n",
        "        [5,np.nan,0],\n",
        "        [np.nan,4,6 ],\n",
        "        [5,0,np.nan],\n",
        "        [4,5,5]]\n",
        "\n",
        "imp = SimpleImputer(missing_values=np.nan, strategy='mean')\n",
        "imp = imp.fit(data)\n",
        "\n",
        "modifieddata = imp.transform(data)\n",
        "print(modifieddata)\n"
      ],
      "execution_count": null,
      "outputs": [
        {
          "output_type": "stream",
          "text": [
            "[[1.   2.   3.  ]\n",
            " [3.   2.75 1.  ]\n",
            " [5.   2.75 0.  ]\n",
            " [3.6  4.   6.  ]\n",
            " [5.   0.   3.  ]\n",
            " [4.   5.   5.  ]]\n"
          ],
          "name": "stdout"
        }
      ]
    },
    {
      "cell_type": "code",
      "metadata": {
        "id": "wRFtivIbcpSL",
        "outputId": "e669ea04-abaf-4aab-c3cd-0234332182cd",
        "colab": {
          "base_uri": "https://localhost:8080/",
          "height": 121
        }
      },
      "source": [
        "# emample 2 using median\n",
        "\n",
        "import numpy as np\n",
        "\n",
        "from sklearn.impute import SimpleImputer\n",
        "\n",
        "data = [[1,2,np.nan],\n",
        "        [3,np.nan,1],\n",
        "        [5,np.nan,0],\n",
        "        [np.nan,4,6 ],\n",
        "        [5,0,np.nan],\n",
        "        [4,5,5]]\n",
        "\n",
        "imp = SimpleImputer(missing_values=np.nan, strategy='median')\n",
        "imp = imp.fit(data)\n",
        "\n",
        "modifieddata = imp.transform(data)\n",
        "print(modifieddata)"
      ],
      "execution_count": null,
      "outputs": [
        {
          "output_type": "stream",
          "text": [
            "[[1. 2. 3.]\n",
            " [3. 3. 1.]\n",
            " [5. 3. 0.]\n",
            " [4. 4. 6.]\n",
            " [5. 0. 3.]\n",
            " [4. 5. 5.]]\n"
          ],
          "name": "stdout"
        }
      ]
    },
    {
      "cell_type": "code",
      "metadata": {
        "id": "TR7AAyQ4c5g4",
        "outputId": "64e160f7-42d1-4ef6-c702-d97fa52aba01",
        "colab": {
          "base_uri": "https://localhost:8080/",
          "height": 121
        }
      },
      "source": [
        "# example 3 using mean and zero missing value\n",
        "\n",
        "from sklearn.impute import SimpleImputer\n",
        "\n",
        "\n",
        "data = [[1,2,0],\n",
        "        [3,0,1],\n",
        "        [5,0,0],\n",
        "        [0,4,6],\n",
        "        [5,0,0],\n",
        "        [4,5,5]]\n",
        "\n",
        "\n",
        "imp = SimpleImputer(missing_values=0, strategy='mean')\n",
        "imp = imp.fit(data)\n",
        "\n",
        "\n",
        "modifieddata = imp.transform(data)\n",
        "print(modifieddata)"
      ],
      "execution_count": null,
      "outputs": [
        {
          "output_type": "stream",
          "text": [
            "[[1.         2.         4.        ]\n",
            " [3.         3.66666667 1.        ]\n",
            " [5.         3.66666667 4.        ]\n",
            " [3.6        4.         6.        ]\n",
            " [5.         3.66666667 4.        ]\n",
            " [4.         5.         5.        ]]\n"
          ],
          "name": "stdout"
        }
      ]
    },
    {
      "cell_type": "code",
      "metadata": {
        "id": "fARYshHPdQjT"
      },
      "source": [
        ""
      ],
      "execution_count": null,
      "outputs": []
    }
  ]
}